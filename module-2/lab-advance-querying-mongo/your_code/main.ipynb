{
 "cells": [
  {
   "cell_type": "markdown",
   "metadata": {},
   "source": [
    "# Advanced Querying Mongo"
   ]
  },
  {
   "cell_type": "markdown",
   "metadata": {},
   "source": [
    "Importing libraries and setting up connection"
   ]
  },
  {
   "cell_type": "code",
   "execution_count": 2,
   "metadata": {},
   "outputs": [],
   "source": [
    "from pymongo import MongoClient\n",
    "db = 'companies'\n",
    "client = MongoClient(f\"mongodb://localhost/{db}\")\n",
    "db = client.get_database()"
   ]
  },
  {
   "cell_type": "code",
   "execution_count": 3,
   "metadata": {},
   "outputs": [
    {
     "name": "stdout",
     "output_type": "stream",
     "text": [
      "{'name': 'companies', 'type': 'collection', 'options': {}, 'info': {'readOnly': False, 'uuid': UUID('76992dc7-b5e1-4dcd-9a37-b36c0e165615')}, 'idIndex': {'v': 2, 'key': {'_id': 1}, 'name': '_id_', 'ns': 'companies.companies'}}\n"
     ]
    }
   ],
   "source": [
    "# Your Code\n",
    "cur = db.list_collections()\n",
    "for collection in cur:\n",
    "    print(collection)"
   ]
  },
  {
   "cell_type": "markdown",
   "metadata": {},
   "source": [
    "### 1. All the companies whose name match 'Babelgum'. Retrieve only their `name` field."
   ]
  },
  {
   "cell_type": "code",
   "execution_count": 4,
   "metadata": {},
   "outputs": [
    {
     "name": "stdout",
     "output_type": "stream",
     "text": [
      "Babelgum\n"
     ]
    }
   ],
   "source": [
    "cur = db.companies.find({\"name\":\"Babelgum\"})\n",
    "for collec in cur:\n",
    "    print(collec[\"name\"])"
   ]
  },
  {
   "cell_type": "markdown",
   "metadata": {},
   "source": [
    "### 2. All the companies that have more than 5000 employees. Limit the search to 20 companies and sort them by **number of employees**."
   ]
  },
  {
   "cell_type": "code",
   "execution_count": 5,
   "metadata": {},
   "outputs": [
    {
     "name": "stdout",
     "output_type": "stream",
     "text": [
      "405000 Siemens\n",
      "388000 IBM\n",
      "320000 Toyota\n",
      "300000 PayPal\n",
      "227000 Nippon Telegraph and Telephone Corporation\n",
      "221726 Samsung Electronics\n",
      "205000 Accenture\n",
      "200300 Tata Consultancy Services\n",
      "200000 Flextronics International\n",
      "186000 Safeway\n",
      "180500 Sony\n",
      "177000 LG\n",
      "171000 Ford\n",
      "160000 Boeing\n",
      "140000 Digital Equipment Corporation\n",
      "125000 Nokia\n",
      "107000 MItsubishi Electric\n",
      "107000 MItsubishi Electric\n",
      "100000 Comcast\n",
      "100000 Bertelsmann\n"
     ]
    }
   ],
   "source": [
    "from pymongo import ASCENDING, DESCENDING\n",
    "cur = db.companies.find({\"number_of_employees\":{ \"$gt\" :5000}}\n",
    "                       ).sort([(\"number_of_employees\", DESCENDING)]\n",
    "                        ).limit(20)\n",
    "for collec in cur:\n",
    "    print( collec[\"number_of_employees\"], collec[\"name\"])"
   ]
  },
  {
   "cell_type": "markdown",
   "metadata": {},
   "source": [
    "### 3. All the companies founded between 2000 and 2005, both years included. Retrieve only the `name` and `founded_year` fields."
   ]
  },
  {
   "cell_type": "code",
   "execution_count": 6,
   "metadata": {},
   "outputs": [
    {
     "name": "stderr",
     "output_type": "stream",
     "text": [
      "/home/rh/.local/lib/python3.6/site-packages/ipykernel_launcher.py:1: DeprecationWarning: count is deprecated. Use Collection.count_documents instead.\n",
      "  \"\"\"Entry point for launching an IPython kernel.\n"
     ]
    },
    {
     "data": {
      "text/plain": [
       "3734"
      ]
     },
     "execution_count": 6,
     "metadata": {},
     "output_type": "execute_result"
    }
   ],
   "source": [
    "cur = db.companies.find({\"founded_year\":{\"$gte\":2000, \"$lte\":2005}}).count()\n",
    "\n",
    "# comment out the long answer, and only querying the count()\n",
    "#for coll in cur:\n",
    " #   print(coll['founded_year'], coll['name'], )\n",
    "cur"
   ]
  },
  {
   "cell_type": "markdown",
   "metadata": {},
   "source": [
    "### 4. All the companies that had a Valuation Amount of more than 100.000.000 and have been founded before 2010. Retrieve only the `name` and `ipo` fields."
   ]
  },
  {
   "cell_type": "code",
   "execution_count": 7,
   "metadata": {},
   "outputs": [
    {
     "name": "stdout",
     "output_type": "stream",
     "text": [
      "Facebook {'valuation_amount': 104000000000, 'valuation_currency_code': 'USD', 'pub_year': 2012, 'pub_month': 5, 'pub_day': 18, 'stock_symbol': 'NASDAQ:FB'}\n",
      "Twitter {'valuation_amount': 18100000000, 'valuation_currency_code': 'USD', 'pub_year': 2013, 'pub_month': 11, 'pub_day': 7, 'stock_symbol': 'NYSE:TWTR'}\n",
      "Yelp {'valuation_amount': 1300000000, 'valuation_currency_code': 'USD', 'pub_year': 2012, 'pub_month': 3, 'pub_day': 2, 'stock_symbol': 'NYSE:YELP'}\n"
     ]
    }
   ],
   "source": [
    "# Your Code\n",
    "cur = db.companies.find({\"founded_year\": {\"$lt\":2010},\n",
    "                         \"ipo.valuation_amount\":{\"$gt\":100000000}\n",
    "                        }).limit(3)\n",
    "\n",
    "for coll in cur:\n",
    "    print(coll['name'], coll['ipo'])"
   ]
  },
  {
   "cell_type": "markdown",
   "metadata": {},
   "source": [
    "### 5. All the companies that have less than 1000 employees and have been founded before 2005. Order them by the number of employees and limit the search to 10 companies."
   ]
  },
  {
   "cell_type": "code",
   "execution_count": 8,
   "metadata": {},
   "outputs": [
    {
     "name": "stdout",
     "output_type": "stream",
     "text": [
      "974 2000 Infinera Corporation \t\n",
      "948 1997 NorthPoint Communications Group \t\n",
      "931 1997 888 Holdings \t\n",
      "903 1983 Forrester Research \t\n",
      "900 1991 SonicWALL \t\n",
      "900 1999 Webmetrics \t\n",
      "881 1999 Cornerstone OnDemand \t\n",
      "800 2004 Yelp \t\n",
      "800 2000 ZoomInfo \t\n",
      "800 2003 MySpace \t\n"
     ]
    }
   ],
   "source": [
    "# Your Code\n",
    "cur = db.companies.find({\"number_of_employees\":{\"$lt\":1000}, \n",
    "                         \"founded_year\":{\"$lt\":2005}\n",
    "                        },{\n",
    "                           \"founded_year\":1,\"name\":1, \"number_of_employees\":1,\n",
    "                       }).limit(10).sort([(\"number_of_employees\",DESCENDING)])\n",
    "\n",
    "for x in list(cur):\n",
    "    print(x[\"number_of_employees\"], x[\"founded_year\"],x['name'],\"\\t\",)\n",
    "    \n",
    "# OK CREO QUE ES MUCHO MAS INTUITIVO QUE MYSQL TAMBIEN, AL MENOS A LA HORA DE QUERY"
   ]
  },
  {
   "cell_type": "markdown",
   "metadata": {},
   "source": [
    "### 6. All the companies that don't include the `partners` field."
   ]
  },
  {
   "cell_type": "code",
   "execution_count": 9,
   "metadata": {},
   "outputs": [
    {
     "name": "stderr",
     "output_type": "stream",
     "text": [
      "/home/rh/.local/lib/python3.6/site-packages/ipykernel_launcher.py:1: DeprecationWarning: count is deprecated. Use Collection.count_documents instead.\n",
      "  \"\"\"Entry point for launching an IPython kernel.\n",
      "/home/rh/.local/lib/python3.6/site-packages/ipykernel_launcher.py:2: DeprecationWarning: count is deprecated. Use Collection.count_documents instead.\n",
      "  \n"
     ]
    },
    {
     "data": {
      "text/plain": [
       "(18801, 0)"
      ]
     },
     "execution_count": 9,
     "metadata": {},
     "output_type": "execute_result"
    }
   ],
   "source": [
    "cur1 = db.companies.find({\"partners\":{\"$exists\":True}}).count()\n",
    "cur2 = db.companies.find({\"partners\":{\"$exists\":False}}).count()\n",
    "cur1, cur2"
   ]
  },
  {
   "cell_type": "markdown",
   "metadata": {},
   "source": [
    "### 7. All the companies that have a null type of value on the `category_code` field."
   ]
  },
  {
   "cell_type": "code",
   "execution_count": 10,
   "metadata": {},
   "outputs": [
    {
     "name": "stderr",
     "output_type": "stream",
     "text": [
      "/home/rh/.local/lib/python3.6/site-packages/ipykernel_launcher.py:1: DeprecationWarning: count is deprecated. Use Collection.count_documents instead.\n",
      "  \"\"\"Entry point for launching an IPython kernel.\n"
     ]
    },
    {
     "data": {
      "text/plain": [
       "2751"
      ]
     },
     "execution_count": 10,
     "metadata": {},
     "output_type": "execute_result"
    }
   ],
   "source": [
    "db.companies.find({\"category_code\":{\"$type\":10}}).count()"
   ]
  },
  {
   "cell_type": "markdown",
   "metadata": {},
   "source": [
    "### 8. All the companies that have at least 100 employees but less than 1000. Retrieve only the `name` and `number of employees` fields."
   ]
  },
  {
   "cell_type": "code",
   "execution_count": 11,
   "metadata": {},
   "outputs": [
    {
     "name": "stdout",
     "output_type": "stream",
     "text": [
      "984 Datamonitor\n",
      "974 Infinera Corporation\n",
      "950 Box\n",
      "948 NorthPoint Communications Group\n",
      "931 888 Holdings\n",
      "903 Forrester Research\n",
      "900 Workday\n",
      "900 InMobi\n",
      "900 Relax Solutions Pvt Ltd\n",
      "900 SonicWALL\n"
     ]
    }
   ],
   "source": [
    "# Your Code\n",
    "c =db.companies.find({\"number_of_employees\":{\"$gt\":100, \"$lt\":1000}},\n",
    "                     {\"number_of_employees\":1,\"name\":1}\n",
    "                    ).sort([(\"number_of_employees\",-1)]).limit(10)\n",
    "for c in c:\n",
    "    print(c[\"number_of_employees\"],c[\"name\"])"
   ]
  },
  {
   "cell_type": "markdown",
   "metadata": {},
   "source": [
    "### 9. Order all the companies by their IPO price in a descending order."
   ]
  },
  {
   "cell_type": "code",
   "execution_count": 12,
   "metadata": {},
   "outputs": [
    {
     "name": "stdout",
     "output_type": "stream",
     "text": [
      "{'_id': ObjectId('52cdef7c4bab8bd675297d8b'), 'name': 'AdventNet'}\n",
      "{'_id': ObjectId('52cdef7c4bab8bd675297d8a'), 'name': 'Wetpaint'}\n",
      "{'_id': ObjectId('52cdef7c4bab8bd675297d8c'), 'name': 'Zoho'}\n",
      "{'_id': ObjectId('52cdef7c4bab8bd675297d8f'), 'name': 'Omnidrive'}\n",
      "{'_id': ObjectId('52cdef7c4bab8bd675297d91'), 'name': 'Geni'}\n",
      "{'_id': ObjectId('52cdef7c4bab8bd675297d90'), 'name': 'Postini'}\n",
      "{'_id': ObjectId('52cdef7c4bab8bd675297d8d'), 'name': 'Digg'}\n",
      "{'_id': ObjectId('52cdef7c4bab8bd675297d92'), 'name': 'Flektor'}\n",
      "{'_id': ObjectId('52cdef7c4bab8bd675297d93'), 'name': 'Fox Interactive Media'}\n",
      "{'_id': ObjectId('52cdef7c4bab8bd675297d96'), 'name': 'Gizmoz'}\n",
      "{'_id': ObjectId('52cdef7c4bab8bd675297d97'), 'name': 'Scribd'}\n",
      "{'_id': ObjectId('52cdef7c4bab8bd675297d98'), 'name': 'Slacker'}\n",
      "{'_id': ObjectId('52cdef7c4bab8bd675297d8e'), 'name': 'Facebook', 'ipo': {'valuation_amount': 104000000000}}\n",
      "{'_id': ObjectId('52cdef7c4bab8bd675297d99'), 'name': 'Lala'}\n",
      "{'_id': ObjectId('52cdef7c4bab8bd675297d95'), 'name': 'StumbleUpon'}\n",
      "{'_id': ObjectId('52cdef7c4bab8bd675297d9a'), 'name': 'Helio'}\n",
      "{'_id': ObjectId('52cdef7c4bab8bd675297d9c'), 'name': 'MeetMoi'}\n",
      "{'_id': ObjectId('52cdef7c4bab8bd675297d9d'), 'name': 'Joost'}\n",
      "{'_id': ObjectId('52cdef7c4bab8bd675297da0'), 'name': 'Babelgum'}\n",
      "{'_id': ObjectId('52cdef7c4bab8bd675297da1'), 'name': 'Plaxo'}\n"
     ]
    }
   ],
   "source": [
    "# ¿Por que no funciona el query usando el operador $not  con $type??\n",
    "# recibo muchos objects sin el key de ipo\n",
    "\n",
    "c=db.companies.find({\"ipo.valuation_amount\":  {\"$not\":  {\"$type\":10}  }\n",
    "                    }, {\"name\":1,\"ipo.valuation_amount\":1}\n",
    "                   ) #.sort(\"ipo.valuation_amount\",-1)\n",
    "                   \n",
    "for e in c.limit(20):\n",
    "    print(e) #,e[\"ipo.valuation_amount\"])"
   ]
  },
  {
   "cell_type": "code",
   "execution_count": 13,
   "metadata": {},
   "outputs": [
    {
     "name": "stdout",
     "output_type": "stream",
     "text": [
      "108960000000 GREE\n",
      "104000000000 Facebook\n",
      "100000000000 Amazon\n",
      "18100000000 Twitter\n",
      "12800000000 Groupon\n",
      "11000000000 Tencent\n",
      "9430000000 Western Digital\n",
      "9310000000 LinkedIn\n",
      "6000000000 BMC Software\n",
      "5440000000 Rackspace\n"
     ]
    }
   ],
   "source": [
    "c=db.companies.find({\"ipo.valuation_amount\":  {\"$ne\":  None  }\n",
    "                    }, {\"name\":1,\"ipo.valuation_amount\":1}\n",
    "                   ).sort(\"ipo.valuation_amount\",-1).limit(10)\n",
    "                   \n",
    "for e in c:\n",
    "    print(e[\"ipo\"][\"valuation_amount\"], e[\"name\"])"
   ]
  },
  {
   "cell_type": "markdown",
   "metadata": {},
   "source": [
    "### 10. Retrieve the 10 companies with more employees, order by the `number of employees`"
   ]
  },
  {
   "cell_type": "code",
   "execution_count": 14,
   "metadata": {},
   "outputs": [
    {
     "data": {
      "text/plain": [
       "[{'_id': ObjectId('52cdef7d4bab8bd67529941a'),\n",
       "  'name': 'Siemens',\n",
       "  'number_of_employees': 405000},\n",
       " {'_id': ObjectId('52cdef7c4bab8bd67529856a'),\n",
       "  'name': 'IBM',\n",
       "  'number_of_employees': 388000},\n",
       " {'_id': ObjectId('52cdef7d4bab8bd675299d33'),\n",
       "  'name': 'Toyota',\n",
       "  'number_of_employees': 320000},\n",
       " {'_id': ObjectId('52cdef7c4bab8bd675297e89'),\n",
       "  'name': 'PayPal',\n",
       "  'number_of_employees': 300000},\n",
       " {'_id': ObjectId('52cdef7e4bab8bd67529b0fe'),\n",
       "  'name': 'Nippon Telegraph and Telephone Corporation',\n",
       "  'number_of_employees': 227000},\n",
       " {'_id': ObjectId('52cdef7d4bab8bd675298aa4'),\n",
       "  'name': 'Samsung Electronics',\n",
       "  'number_of_employees': 221726},\n",
       " {'_id': ObjectId('52cdef7d4bab8bd675298b99'),\n",
       "  'name': 'Accenture',\n",
       "  'number_of_employees': 205000},\n",
       " {'_id': ObjectId('52cdef7e4bab8bd67529a657'),\n",
       "  'name': 'Tata Consultancy Services',\n",
       "  'number_of_employees': 200300},\n",
       " {'_id': ObjectId('52cdef7e4bab8bd67529aa51'),\n",
       "  'name': 'Flextronics International',\n",
       "  'number_of_employees': 200000},\n",
       " {'_id': ObjectId('52cdef7d4bab8bd675299156'),\n",
       "  'name': 'Safeway',\n",
       "  'number_of_employees': 186000}]"
      ]
     },
     "execution_count": 14,
     "metadata": {},
     "output_type": "execute_result"
    }
   ],
   "source": [
    "# Your Code\n",
    "list(db.companies.find({},    {\"number_of_employees\":1, \"name\":1 }\n",
    "                      ).sort([(\"number_of_employees\",DESCENDING)]).limit(10))"
   ]
  },
  {
   "cell_type": "markdown",
   "metadata": {},
   "source": [
    "### 11. All the companies founded on the second semester of the year. Limit your search to 1000 companies."
   ]
  },
  {
   "cell_type": "code",
   "execution_count": 15,
   "metadata": {},
   "outputs": [
    {
     "name": "stdout",
     "output_type": "stream",
     "text": [
      "10 Wetpaint\n",
      "9 Zoho\n",
      "11 Omnidrive\n",
      "10 Digg\n",
      "10 Joost\n",
      "11 Plaxo\n",
      "10 Powerset\n",
      "9 eBay\n",
      "12 Kyte\n",
      "12 Thoof\n"
     ]
    }
   ],
   "source": [
    "c = db.companies.find({\"founded_month\":{\"$in\":[e for e in range(7,13)]}}\n",
    "                     ).limit(10)\n",
    "for coll in c:\n",
    "    print(coll[\"founded_month\"], coll['name'],)"
   ]
  },
  {
   "cell_type": "markdown",
   "metadata": {},
   "source": [
    "### 12. All the companies founded before 2000 that have an acquisition amount of more than 10.000.00"
   ]
  },
  {
   "cell_type": "code",
   "execution_count": 16,
   "metadata": {},
   "outputs": [
    {
     "name": "stdout",
     "output_type": "stream",
     "text": [
      "1500000000 USD \t 1998 PayPal \t\t finance\n",
      "7400000000 USD \t 1982 Sun Microsystems \t\t enterprise\n",
      "1200000000 USD \t 1999 Zappos \t\t web\n",
      "1008000000 USD \t 1998 Lastminute \t\t web\n",
      "4300000000 USD \t 1960 Sabre \t\t web\n",
      "1300000000 USD \t 1980 Digitas \t\t web\n",
      "1800000000 USD \t 1996 Omniture \t\t advertising\n",
      "1100000000 USD \t 1996 DoubleClick \t\t advertising\n",
      "8500000000 USD \t 1995 BEA Systems \t\t software\n",
      "6400000000 USD \t 1997 aQuantive \t\t web\n"
     ]
    }
   ],
   "source": [
    "# Your Code\n",
    "cur = db.companies.find({\"founded_year\":{\"$lt\":2000},\n",
    "                  \"acquisition.price_amount\":{\"$gt\":1000000000}}).limit(10)\n",
    "\n",
    "for e in cur:\n",
    "    print( e[\"acquisition\"][\"price_amount\"],e[\"acquisition\"][\"price_currency_code\"],\n",
    "          \"\\t\", e[\"founded_year\"], e['name'], \n",
    "          \"\\t\\t\",e['category_code'])"
   ]
  },
  {
   "cell_type": "markdown",
   "metadata": {},
   "source": [
    "### 13. All the companies that have been acquired after 2010, order by the acquisition amount, and retrieve only their `name` and `acquisition` field."
   ]
  },
  {
   "cell_type": "code",
   "execution_count": 17,
   "metadata": {},
   "outputs": [
    {
     "name": "stdout",
     "output_type": "stream",
     "text": [
      "USD 39000000000 T-Mobile\n",
      "USD 18400000000 Goodrich Corporation\n",
      "USD 6600000000 LSI\n",
      "USD 6500000000 National Semiconductor\n",
      "USD 4300000000 Ariba\n",
      "USD 3700000000 NetLogic Microsystems\n",
      "USD 3400000000 SuccessFactors\n",
      "USD 3100000000 Qualcomm Atheros\n",
      "USD 3000000000 Global Crossing\n",
      "USD 3000000000 Global Crossing\n"
     ]
    }
   ],
   "source": [
    "c = db.companies.find({\"acquisition.acquired_year\":{\"$gt\":2010}},\n",
    "                      {\"name\":1,\"acquisition\":1}\n",
    "                     ).sort([(\"acquisition.price_amount\", DESCENDING)]).limit(10)\n",
    "for coll in c:\n",
    "    print(e[\"acquisition\"][\"price_currency_code\"],\n",
    "          coll[\"acquisition\"][\"price_amount\"],\n",
    "          coll['name'])"
   ]
  },
  {
   "cell_type": "markdown",
   "metadata": {},
   "source": [
    "### 14. Order the companies by their `founded year`, retrieving only their `name` and `founded year`."
   ]
  },
  {
   "cell_type": "code",
   "execution_count": 18,
   "metadata": {},
   "outputs": [
    {
     "name": "stdout",
     "output_type": "stream",
     "text": [
      "1800 Alstrasoft\n",
      "1800 SmallWorlds\n",
      "1800 US Army\n",
      "1802 DuPont\n",
      "1833 McKesson\n",
      "1833 Bachmann Industries\n",
      "1835 Bertelsmann\n",
      "1836 Accuity\n",
      "1839 CENTRA\n",
      "1840 WeGame\n"
     ]
    }
   ],
   "source": [
    "c= db.companies.find({\"founded_year\":{\"$gt\":0}},\n",
    "                     {\"name\":1,\"founded_year\":1}\n",
    "                     ).sort([(\"founded_year\",ASCENDING)]   \n",
    "                     ).limit(10)\n",
    "for e in c:\n",
    "    print(e[\"founded_year\"],e[\"name\"])"
   ]
  },
  {
   "cell_type": "markdown",
   "metadata": {},
   "source": [
    "### 15. All the companies that have been founded on the first seven days of the month, including the seventh. Sort them by their `acquisition price` in a descending order. Limit the search to 10 documents."
   ]
  },
  {
   "cell_type": "code",
   "execution_count": 19,
   "metadata": {},
   "outputs": [
    {
     "name": "stdout",
     "output_type": "stream",
     "text": [
      "1 Omnidrive\n",
      "1 Geni\n",
      "2 Postini\n",
      "1 Fox Interactive Media\n",
      "1 Gizmoz\n",
      "1 Facebook\n",
      "1 StumbleUpon\n",
      "1 Helio\n",
      "1 Joost\n",
      "1 Babelgum\n"
     ]
    }
   ],
   "source": [
    "days=[e for e in range(8)]\n",
    "c = db.companies.find({\"founded_day\":{\"$in\":days}}).limit(10)\n",
    "for e in c:\n",
    "    print(e[\"founded_day\"], e[\"name\"])"
   ]
  },
  {
   "cell_type": "markdown",
   "metadata": {},
   "source": [
    "### 16. All the companies on the 'web' `category` that have more than 4000 employees. Sort them by the amount of employees in ascending order."
   ]
  },
  {
   "cell_type": "code",
   "execution_count": 20,
   "metadata": {},
   "outputs": [
    {
     "name": "stdout",
     "output_type": "stream",
     "text": [
      "web 4400 Expedia\n",
      "web 8000 AOL\n",
      "web 8657 Webkinz\n",
      "web 10000 Rakuten\n",
      "web 10000 Los Angeles Times Media Group\n",
      "web 10000 Groupon\n",
      "web 13600 Yahoo!\n",
      "web 15000 eBay\n",
      "web 15500 Experian\n"
     ]
    }
   ],
   "source": [
    "# Your Code\n",
    "c=db.companies.find({\"category_code\":\"web\", \"number_of_employees\":{\"$gt\":4000}}\n",
    "                   ).sort([(\"number_of_employees\",ASCENDING)])\n",
    "for e in c:\n",
    "    print(e[\"category_code\"], e[\"number_of_employees\"], e[\"name\"])"
   ]
  },
  {
   "cell_type": "markdown",
   "metadata": {},
   "source": [
    "### 17. All the companies whose acquisition amount is more than 10.000.000, and currency is 'EUR'."
   ]
  },
  {
   "cell_type": "code",
   "execution_count": 21,
   "metadata": {},
   "outputs": [
    {
     "name": "stdout",
     "output_type": "stream",
     "text": [
      "31500000 EUR mobile 25 \t ZYB\n",
      "140000000 EUR mobile None \t Apertio\n",
      "40000000 EUR public_relations None \t Greenfield Online\n",
      "70000000 EUR web 50 \t Webedia\n",
      "24000000 EUR None None \t Wayfinder\n",
      "70000000 EUR social 170 \t Tuenti Technologies\n",
      "43400000 EUR ecommerce None \t BioMed Central\n"
     ]
    }
   ],
   "source": [
    "# Your Code\n",
    "c=db.companies.find({\"acquisition.price_amount\":{\"$gt\":10000000},\n",
    "                     \"acquisition.price_currency_code\":\"EUR\"})\n",
    "\n",
    "for e in c:\n",
    "    print(e[\"acquisition\"][\"price_amount\"], e[\"acquisition\"][\"price_currency_code\"],\n",
    "          e[\"category_code\"],\n",
    "          e[\"number_of_employees\"],\"\\t\", e[\"name\"])"
   ]
  },
  {
   "cell_type": "markdown",
   "metadata": {},
   "source": [
    "### 18. All the companies that have been acquired on the first trimester of the year. Limit the search to 10 companies, and retrieve only their `name` and `acquisition` fields."
   ]
  },
  {
   "cell_type": "code",
   "execution_count": 22,
   "metadata": {},
   "outputs": [
    {
     "name": "stdout",
     "output_type": "stream",
     "text": [
      "1 Kyte\n",
      "2 NetRatings\n",
      "3 blogTV\n",
      "1 Livestream\n",
      "2 iContact\n",
      "2 Coghead\n",
      "2 Dailymotion\n",
      "2 Netvibes\n",
      "3 Flickr\n",
      "3 BabyCenter\n"
     ]
    },
    {
     "name": "stderr",
     "output_type": "stream",
     "text": [
      "/home/rh/.local/lib/python3.6/site-packages/ipykernel_launcher.py:7: DeprecationWarning: count is deprecated. Use Collection.count_documents instead.\n",
      "  import sys\n"
     ]
    },
    {
     "data": {
      "text/plain": [
       "642"
      ]
     },
     "execution_count": 22,
     "metadata": {},
     "output_type": "execute_result"
    }
   ],
   "source": [
    "rng= [e for e in range(0,4)]\n",
    "c=db.companies.find({\"acquisition.acquired_month\":{\"$in\":rng}},\n",
    "                    {\"name\":1, \"acquisition\":1}).limit(10)\n",
    "for e in c:\n",
    "    print(e[\"acquisition\"][\"acquired_month\"], e[\"name\"])\n",
    "\n",
    "c.count()"
   ]
  },
  {
   "cell_type": "markdown",
   "metadata": {},
   "source": [
    "# Bonus\n",
    "### 19. All the companies that have been founded between 2000 and 2010, but have not been acquired before 2011."
   ]
  },
  {
   "cell_type": "code",
   "execution_count": 22,
   "metadata": {},
   "outputs": [
    {
     "name": "stdout",
     "output_type": "stream",
     "text": [
      "2005 2013 Wetpaint\n",
      "2006 2012 Geni\n",
      "2004 2012 Digg\n",
      "2006 2011 Kyte\n",
      "2005 2011 Jingle Networks\n",
      "2006 2013 blogTV\n",
      "2003 2011 delicious\n",
      "2005 2012 Revision3\n",
      "2003 2012 iContact\n",
      "2006 2013 Mashery\n"
     ]
    }
   ],
   "source": [
    "# Your Code\n",
    "c =db.companies.find({\"founded_year\":{\"$gt\":2000,\"$lt\":2010 },\n",
    "                     \"acquisition.acquired_year\":{\"$gte\":2011}\n",
    "                     },\n",
    "                 ).limit(10)\n",
    "for e in c:\n",
    "    print(e[\"founded_year\"], e[\"acquisition\"][\"acquired_year\"] ,e[\"name\"])"
   ]
  },
  {
   "cell_type": "markdown",
   "metadata": {},
   "source": [
    "### 20. All the companies that have been 'deadpooled' after the third year."
   ]
  },
  {
   "cell_type": "code",
   "execution_count": 23,
   "metadata": {},
   "outputs": [
    {
     "name": "stdout",
     "output_type": "stream",
     "text": [
      "2013 2007 This company was deadpooled after:  6 \t\t Babelgum\n",
      "2013 2006 This company was deadpooled after:  7 \t\t Thoof\n",
      "2010 2005 This company was deadpooled after:  5 \t\t Wesabe\n",
      "2013 2006 This company was deadpooled after:  7 \t\t Stickam\n",
      "2008 2004 This company was deadpooled after:  4 \t\t AllPeers\n",
      "2012 2006 This company was deadpooled after:  6 \t\t EQO\n",
      "2007 2000 This company was deadpooled after:  7 \t\t AllofMP3\n",
      "2010 2006 This company was deadpooled after:  4 \t\t SellABand\n",
      "2011 2005 This company was deadpooled after:  6 \t\t Zlio\n",
      "2012 2006 This company was deadpooled after:  6 \t\t Jaiku\n",
      "2009 2003 This company was deadpooled after:  6 \t\t Coghead\n",
      "2010 2005 This company was deadpooled after:  5 \t\t Swivel\n",
      "2011 2005 This company was deadpooled after:  6 \t\t Slide\n",
      "2012 2004 This company was deadpooled after:  8 \t\t Sway\n",
      "2012 2006 This company was deadpooled after:  6 \t\t coComment\n",
      "2012 2006 This company was deadpooled after:  6 \t\t Hotelicopter\n",
      "2012 2007 This company was deadpooled after:  5 \t\t Ujogo\n",
      "2009 2004 This company was deadpooled after:  5 \t\t PeerMe\n"
     ]
    }
   ],
   "source": [
    "c=db.companies.find({\"deadpooled_year\":{\"$gt\":0}, \"founded_year\":{\"$gt\":0}},\n",
    "                   ).limit(30)\n",
    "\n",
    "#el filter afuera q es mas facil\n",
    "for e in c:\n",
    "    lifetime = e[\"deadpooled_year\"]- e[\"founded_year\"]\n",
    "    if lifetime > 3:\n",
    "        print(e[\"deadpooled_year\"], e[\"founded_year\"], \"This company was deadpooled after: \",\n",
    "          (e[\"deadpooled_year\"]- e[\"founded_year\"]),\n",
    "          \"\\t\\t\",  e[\"name\"])"
   ]
  },
  {
   "cell_type": "code",
   "execution_count": 40,
   "metadata": {
    "scrolled": true
   },
   "outputs": [
    {
     "data": {
      "text/html": [
       "<div>\n",
       "<style scoped>\n",
       "    .dataframe tbody tr th:only-of-type {\n",
       "        vertical-align: middle;\n",
       "    }\n",
       "\n",
       "    .dataframe tbody tr th {\n",
       "        vertical-align: top;\n",
       "    }\n",
       "\n",
       "    .dataframe thead th {\n",
       "        text-align: right;\n",
       "    }\n",
       "</style>\n",
       "<table border=\"1\" class=\"dataframe\">\n",
       "  <thead>\n",
       "    <tr style=\"text-align: right;\">\n",
       "      <th></th>\n",
       "      <th>_id</th>\n",
       "      <th>name</th>\n",
       "      <th>founded_year</th>\n",
       "      <th>overview</th>\n",
       "      <th>ipo.valuation_amount</th>\n",
       "      <th>ipo.valuation_currency_code</th>\n",
       "      <th>ipo.pub_year</th>\n",
       "      <th>ipo.pub_month</th>\n",
       "      <th>ipo.pub_day</th>\n",
       "      <th>ipo.stock_symbol</th>\n",
       "    </tr>\n",
       "  </thead>\n",
       "  <tbody>\n",
       "    <tr>\n",
       "      <th>0</th>\n",
       "      <td>52cdef7d4bab8bd675299d5d</td>\n",
       "      <td>Groupon</td>\n",
       "      <td>2008.0</td>\n",
       "      <td>&lt;p&gt;Groupon (NASDAQ: GRPN) is a global leader i...</td>\n",
       "      <td>1.280000e+10</td>\n",
       "      <td>USD</td>\n",
       "      <td>2011.0</td>\n",
       "      <td>11.0</td>\n",
       "      <td>7.0</td>\n",
       "      <td>NASDAQ:GRPN</td>\n",
       "    </tr>\n",
       "    <tr>\n",
       "      <th>1</th>\n",
       "      <td>52cdef7f4bab8bd67529c1f7</td>\n",
       "      <td>CrowdGather</td>\n",
       "      <td>2008.0</td>\n",
       "      <td>&lt;p&gt;&lt;a href=\"http://www.crowdgather.com/\" title...</td>\n",
       "      <td>NaN</td>\n",
       "      <td>USD</td>\n",
       "      <td>2008.0</td>\n",
       "      <td>5.0</td>\n",
       "      <td>30.0</td>\n",
       "      <td>OTCMKTS:CRWG</td>\n",
       "    </tr>\n",
       "    <tr>\n",
       "      <th>2</th>\n",
       "      <td>52cdef7c4bab8bd67529805d</td>\n",
       "      <td>Wix</td>\n",
       "      <td>2006.0</td>\n",
       "      <td>&lt;p&gt;Wix.com Ltd., (www.wix.com) is a leading cl...</td>\n",
       "      <td>7.500000e+08</td>\n",
       "      <td>USD</td>\n",
       "      <td>2013.0</td>\n",
       "      <td>11.0</td>\n",
       "      <td>6.0</td>\n",
       "      <td>NASDAQ:WIX</td>\n",
       "    </tr>\n",
       "    <tr>\n",
       "      <th>3</th>\n",
       "      <td>52cdef7e4bab8bd67529af2b</td>\n",
       "      <td>Qihoo 360 Technology</td>\n",
       "      <td>2005.0</td>\n",
       "      <td>&lt;p&gt;Qihoo 360 Technology Co Ltd (Qihoo 360), fo...</td>\n",
       "      <td>NaN</td>\n",
       "      <td>USD</td>\n",
       "      <td>2011.0</td>\n",
       "      <td>4.0</td>\n",
       "      <td>8.0</td>\n",
       "      <td>NYSE:QIHU</td>\n",
       "    </tr>\n",
       "    <tr>\n",
       "      <th>4</th>\n",
       "      <td>52cdef7c4bab8bd6752981a7</td>\n",
       "      <td>TripAdvisor</td>\n",
       "      <td>2000.0</td>\n",
       "      <td>&lt;p&gt;TripAdvisor is a free travel guide and rese...</td>\n",
       "      <td>3.273770e+09</td>\n",
       "      <td>USD</td>\n",
       "      <td>2011.0</td>\n",
       "      <td>12.0</td>\n",
       "      <td>21.0</td>\n",
       "      <td>TRIP</td>\n",
       "    </tr>\n",
       "    <tr>\n",
       "      <th>5</th>\n",
       "      <td>52cdef7c4bab8bd675298222</td>\n",
       "      <td>comScore</td>\n",
       "      <td>1999.0</td>\n",
       "      <td>&lt;p&gt;&amp;#8220;comScore is a global Internet inform...</td>\n",
       "      <td>NaN</td>\n",
       "      <td>USD</td>\n",
       "      <td>2007.0</td>\n",
       "      <td>4.0</td>\n",
       "      <td>3.0</td>\n",
       "      <td>SCOR</td>\n",
       "    </tr>\n",
       "    <tr>\n",
       "      <th>6</th>\n",
       "      <td>52cdef7c4bab8bd675297f36</td>\n",
       "      <td>OpenTable</td>\n",
       "      <td>1998.0</td>\n",
       "      <td>&lt;p&gt;OpenTable provides a restaurant management ...</td>\n",
       "      <td>1.050000e+09</td>\n",
       "      <td>USD</td>\n",
       "      <td>2009.0</td>\n",
       "      <td>5.0</td>\n",
       "      <td>21.0</td>\n",
       "      <td>NASDAQ:OPEN</td>\n",
       "    </tr>\n",
       "    <tr>\n",
       "      <th>7</th>\n",
       "      <td>52cdef7c4bab8bd675298674</td>\n",
       "      <td>Tencent</td>\n",
       "      <td>1998.0</td>\n",
       "      <td>&lt;p&gt;Tencent is one of China&amp;#8217;s largest and...</td>\n",
       "      <td>1.100000e+10</td>\n",
       "      <td>USD</td>\n",
       "      <td>2004.0</td>\n",
       "      <td>6.0</td>\n",
       "      <td>16.0</td>\n",
       "      <td>HK:0700</td>\n",
       "    </tr>\n",
       "    <tr>\n",
       "      <th>8</th>\n",
       "      <td>52cdef7f4bab8bd67529bf18</td>\n",
       "      <td>COOKPAD</td>\n",
       "      <td>1997.0</td>\n",
       "      <td>&lt;p&gt;COOKPAD is the world’s largest recipe site ...</td>\n",
       "      <td>NaN</td>\n",
       "      <td>USD</td>\n",
       "      <td>2009.0</td>\n",
       "      <td>7.0</td>\n",
       "      <td>NaN</td>\n",
       "      <td>TYO:2193</td>\n",
       "    </tr>\n",
       "    <tr>\n",
       "      <th>9</th>\n",
       "      <td>52cdef7c4bab8bd6752980df</td>\n",
       "      <td>Blucora</td>\n",
       "      <td>1996.0</td>\n",
       "      <td>&lt;p&gt;Infospace Becomes Blucora. Blucora, Inc. [N...</td>\n",
       "      <td>NaN</td>\n",
       "      <td>USD</td>\n",
       "      <td>2013.0</td>\n",
       "      <td>8.0</td>\n",
       "      <td>1.0</td>\n",
       "      <td>NASDAQ:BCOR</td>\n",
       "    </tr>\n",
       "    <tr>\n",
       "      <th>10</th>\n",
       "      <td>52cdef7c4bab8bd67529822a</td>\n",
       "      <td>Expedia</td>\n",
       "      <td>1996.0</td>\n",
       "      <td>&lt;p&gt;Expedia.com is an Internet-based travel age...</td>\n",
       "      <td>NaN</td>\n",
       "      <td>USD</td>\n",
       "      <td>2005.0</td>\n",
       "      <td>7.0</td>\n",
       "      <td>29.0</td>\n",
       "      <td>NASDAQ:EXPE</td>\n",
       "    </tr>\n",
       "    <tr>\n",
       "      <th>11</th>\n",
       "      <td>52cdef7c4bab8bd6752983ca</td>\n",
       "      <td>ePals</td>\n",
       "      <td>1996.0</td>\n",
       "      <td>&lt;p&gt;ePals Corporation (TSXV: SLN) is an educati...</td>\n",
       "      <td>NaN</td>\n",
       "      <td>USD</td>\n",
       "      <td>NaN</td>\n",
       "      <td>NaN</td>\n",
       "      <td>NaN</td>\n",
       "      <td>CVE:SLN</td>\n",
       "    </tr>\n",
       "    <tr>\n",
       "      <th>12</th>\n",
       "      <td>52cdef7c4bab8bd675298404</td>\n",
       "      <td>XO Group</td>\n",
       "      <td>1996.0</td>\n",
       "      <td>&lt;p&gt;XO Group Inc. (NYSE: XOXO; www.xogroupinc.c...</td>\n",
       "      <td>NaN</td>\n",
       "      <td>USD</td>\n",
       "      <td>1999.0</td>\n",
       "      <td>12.0</td>\n",
       "      <td>2.0</td>\n",
       "      <td>XOXO</td>\n",
       "    </tr>\n",
       "    <tr>\n",
       "      <th>13</th>\n",
       "      <td>52cdef7c4bab8bd6752986f1</td>\n",
       "      <td>WebMD</td>\n",
       "      <td>1996.0</td>\n",
       "      <td>&lt;p&gt;WebMD is the leading provider of health inf...</td>\n",
       "      <td>NaN</td>\n",
       "      <td>USD</td>\n",
       "      <td>NaN</td>\n",
       "      <td>NaN</td>\n",
       "      <td>NaN</td>\n",
       "      <td>NASDAQ:WBMD</td>\n",
       "    </tr>\n",
       "    <tr>\n",
       "      <th>14</th>\n",
       "      <td>52cdef7c4bab8bd67529872f</td>\n",
       "      <td>Travelocity</td>\n",
       "      <td>1996.0</td>\n",
       "      <td>&lt;p&gt;&lt;a href=\"http://www.travelocity.com/\" title...</td>\n",
       "      <td>NaN</td>\n",
       "      <td>USD</td>\n",
       "      <td>2000.0</td>\n",
       "      <td>NaN</td>\n",
       "      <td>NaN</td>\n",
       "      <td>TSG</td>\n",
       "    </tr>\n",
       "    <tr>\n",
       "      <th>15</th>\n",
       "      <td>52cdef7c4bab8bd675297d9b</td>\n",
       "      <td>eBay</td>\n",
       "      <td>1995.0</td>\n",
       "      <td>&lt;p&gt;Founded in 1995 in San Jose, CA, eBay conne...</td>\n",
       "      <td>NaN</td>\n",
       "      <td>USD</td>\n",
       "      <td>1998.0</td>\n",
       "      <td>10.0</td>\n",
       "      <td>2.0</td>\n",
       "      <td>NASDAQ:EBAY</td>\n",
       "    </tr>\n",
       "    <tr>\n",
       "      <th>16</th>\n",
       "      <td>52cdef7c4bab8bd6752987c2</td>\n",
       "      <td>Angie's List</td>\n",
       "      <td>1995.0</td>\n",
       "      <td>&lt;p&gt;Angie&amp;#8217;s List, Inc. provides consumer ...</td>\n",
       "      <td>NaN</td>\n",
       "      <td>USD</td>\n",
       "      <td>2011.0</td>\n",
       "      <td>11.0</td>\n",
       "      <td>25.0</td>\n",
       "      <td>NASDAQ:ANGI</td>\n",
       "    </tr>\n",
       "    <tr>\n",
       "      <th>17</th>\n",
       "      <td>52cdef7c4bab8bd675297da3</td>\n",
       "      <td>Yahoo!</td>\n",
       "      <td>1994.0</td>\n",
       "      <td>&lt;p&gt;Yahoo was founded in 1994 by Stanford Ph.D....</td>\n",
       "      <td>NaN</td>\n",
       "      <td>USD</td>\n",
       "      <td>1996.0</td>\n",
       "      <td>4.0</td>\n",
       "      <td>12.0</td>\n",
       "      <td>NASDAQ:YHOO</td>\n",
       "    </tr>\n",
       "    <tr>\n",
       "      <th>18</th>\n",
       "      <td>52cdef7c4bab8bd675297e29</td>\n",
       "      <td>Scripps Networks Interactive</td>\n",
       "      <td>1994.0</td>\n",
       "      <td>&lt;p&gt;Scripps Networks, a division of Scripps Net...</td>\n",
       "      <td>NaN</td>\n",
       "      <td>USD</td>\n",
       "      <td>2008.0</td>\n",
       "      <td>6.0</td>\n",
       "      <td>20.0</td>\n",
       "      <td>NYSE:SNI</td>\n",
       "    </tr>\n",
       "    <tr>\n",
       "      <th>19</th>\n",
       "      <td>52cdef7e4bab8bd67529b1cb</td>\n",
       "      <td>EarthLink</td>\n",
       "      <td>1994.0</td>\n",
       "      <td>&lt;p&gt;EarthLink, Inc. is an Internet service prov...</td>\n",
       "      <td>NaN</td>\n",
       "      <td>USD</td>\n",
       "      <td>1997.0</td>\n",
       "      <td>1.0</td>\n",
       "      <td>31.0</td>\n",
       "      <td>NASDAQ:ELNK</td>\n",
       "    </tr>\n",
       "    <tr>\n",
       "      <th>20</th>\n",
       "      <td>52cdef7d4bab8bd6752997ae</td>\n",
       "      <td>Bankrate</td>\n",
       "      <td>1993.0</td>\n",
       "      <td>&lt;p&gt;Bankrate is a leading publisher, aggregator...</td>\n",
       "      <td>NaN</td>\n",
       "      <td>USD</td>\n",
       "      <td>2011.0</td>\n",
       "      <td>6.0</td>\n",
       "      <td>24.0</td>\n",
       "      <td>NYSE:RATE</td>\n",
       "    </tr>\n",
       "    <tr>\n",
       "      <th>21</th>\n",
       "      <td>52cdef7d4bab8bd675299b38</td>\n",
       "      <td>Bankrate</td>\n",
       "      <td>1993.0</td>\n",
       "      <td>&lt;p&gt;Bankrate is a leading publisher, aggregator...</td>\n",
       "      <td>NaN</td>\n",
       "      <td>USD</td>\n",
       "      <td>2011.0</td>\n",
       "      <td>6.0</td>\n",
       "      <td>24.0</td>\n",
       "      <td>NYSE:RATE</td>\n",
       "    </tr>\n",
       "    <tr>\n",
       "      <th>22</th>\n",
       "      <td>52cdef7f4bab8bd67529be92</td>\n",
       "      <td>Onstream Media</td>\n",
       "      <td>1993.0</td>\n",
       "      <td>&lt;p&gt;Onstream Media Corporation (Nasdaq: ONSM) i...</td>\n",
       "      <td>NaN</td>\n",
       "      <td>USD</td>\n",
       "      <td>NaN</td>\n",
       "      <td>NaN</td>\n",
       "      <td>NaN</td>\n",
       "      <td>NASDAQ:ONSM</td>\n",
       "    </tr>\n",
       "    <tr>\n",
       "      <th>23</th>\n",
       "      <td>52cdef7c4bab8bd67529857c</td>\n",
       "      <td>SanDisk</td>\n",
       "      <td>1988.0</td>\n",
       "      <td>&lt;p&gt;Founded in 1988 by Dr. Eli Harari, an inter...</td>\n",
       "      <td>NaN</td>\n",
       "      <td>USD</td>\n",
       "      <td>1995.0</td>\n",
       "      <td>11.0</td>\n",
       "      <td>17.0</td>\n",
       "      <td>NASDAQ:SNDK</td>\n",
       "    </tr>\n",
       "    <tr>\n",
       "      <th>24</th>\n",
       "      <td>52cdef7c4bab8bd675297e96</td>\n",
       "      <td>AOL</td>\n",
       "      <td>1985.0</td>\n",
       "      <td>&lt;p&gt;AOL is a global advertising-supported Web c...</td>\n",
       "      <td>NaN</td>\n",
       "      <td>USD</td>\n",
       "      <td>2009.0</td>\n",
       "      <td>12.0</td>\n",
       "      <td>4.0</td>\n",
       "      <td>NYSE:AOL</td>\n",
       "    </tr>\n",
       "    <tr>\n",
       "      <th>25</th>\n",
       "      <td>52cdef7c4bab8bd67529835a</td>\n",
       "      <td>Princeton Review</td>\n",
       "      <td>1981.0</td>\n",
       "      <td>&lt;p&gt;The Princeton Review, Inc. provides integra...</td>\n",
       "      <td>NaN</td>\n",
       "      <td>USD</td>\n",
       "      <td>NaN</td>\n",
       "      <td>NaN</td>\n",
       "      <td>NaN</td>\n",
       "      <td>NASDAQ:REVU</td>\n",
       "    </tr>\n",
       "    <tr>\n",
       "      <th>26</th>\n",
       "      <td>52cdef7c4bab8bd675297d9f</td>\n",
       "      <td>Viacom</td>\n",
       "      <td>1971.0</td>\n",
       "      <td>&lt;p&gt;Viacom, short for &amp;#8220;Video &amp;amp; Audio ...</td>\n",
       "      <td>NaN</td>\n",
       "      <td>USD</td>\n",
       "      <td>NaN</td>\n",
       "      <td>NaN</td>\n",
       "      <td>NaN</td>\n",
       "      <td>NYSE:VIA</td>\n",
       "    </tr>\n",
       "    <tr>\n",
       "      <th>27</th>\n",
       "      <td>52cdef7c4bab8bd675297e98</td>\n",
       "      <td>Hewlett-Packard</td>\n",
       "      <td>1939.0</td>\n",
       "      <td>&lt;p&gt;Hewlett-Packard technology corporation head...</td>\n",
       "      <td>NaN</td>\n",
       "      <td>USD</td>\n",
       "      <td>1978.0</td>\n",
       "      <td>1.0</td>\n",
       "      <td>13.0</td>\n",
       "      <td>NYSE:HPQ</td>\n",
       "    </tr>\n",
       "    <tr>\n",
       "      <th>28</th>\n",
       "      <td>52cdef7c4bab8bd675297f15</td>\n",
       "      <td>Nielsen</td>\n",
       "      <td>1922.0</td>\n",
       "      <td>&lt;p&gt;Nielsen is a leading global provider of inf...</td>\n",
       "      <td>1.600000e+09</td>\n",
       "      <td>USD</td>\n",
       "      <td>2011.0</td>\n",
       "      <td>1.0</td>\n",
       "      <td>26.0</td>\n",
       "      <td>NYSE:NLSN</td>\n",
       "    </tr>\n",
       "    <tr>\n",
       "      <th>29</th>\n",
       "      <td>52cdef7c4bab8bd675297dad</td>\n",
       "      <td>Gannett</td>\n",
       "      <td>NaN</td>\n",
       "      <td>&lt;p&gt;Gannett is an international news and inform...</td>\n",
       "      <td>NaN</td>\n",
       "      <td>USD</td>\n",
       "      <td>1978.0</td>\n",
       "      <td>1.0</td>\n",
       "      <td>13.0</td>\n",
       "      <td>NYSE:GCI</td>\n",
       "    </tr>\n",
       "    <tr>\n",
       "      <th>30</th>\n",
       "      <td>52cdef7c4bab8bd675298658</td>\n",
       "      <td>Live Current Media</td>\n",
       "      <td>NaN</td>\n",
       "      <td>&lt;p&gt;Live Current Media Inc. (Live Current) is a...</td>\n",
       "      <td>NaN</td>\n",
       "      <td>USD</td>\n",
       "      <td>2000.0</td>\n",
       "      <td>NaN</td>\n",
       "      <td>NaN</td>\n",
       "      <td>CMNN</td>\n",
       "    </tr>\n",
       "    <tr>\n",
       "      <th>31</th>\n",
       "      <td>52cdef7d4bab8bd6752989bd</td>\n",
       "      <td>Spark Networks</td>\n",
       "      <td>NaN</td>\n",
       "      <td>&lt;p&gt;As a leading provider of online personals s...</td>\n",
       "      <td>NaN</td>\n",
       "      <td>USD</td>\n",
       "      <td>2006.0</td>\n",
       "      <td>2.0</td>\n",
       "      <td>14.0</td>\n",
       "      <td>NYSE Amex: LOV</td>\n",
       "    </tr>\n",
       "    <tr>\n",
       "      <th>32</th>\n",
       "      <td>52cdef7d4bab8bd675298d5a</td>\n",
       "      <td>Alterian</td>\n",
       "      <td>NaN</td>\n",
       "      <td>&lt;p&gt;Alterian (LSE: ALN) helps marketers improve...</td>\n",
       "      <td>NaN</td>\n",
       "      <td>USD</td>\n",
       "      <td>NaN</td>\n",
       "      <td>NaN</td>\n",
       "      <td>NaN</td>\n",
       "      <td>LSE:ALN</td>\n",
       "    </tr>\n",
       "    <tr>\n",
       "      <th>33</th>\n",
       "      <td>52cdef7d4bab8bd67529907c</td>\n",
       "      <td>Amdocs</td>\n",
       "      <td>NaN</td>\n",
       "      <td>&lt;p&gt;A global company (NYSE: DOX) with revenue o...</td>\n",
       "      <td>NaN</td>\n",
       "      <td>USD</td>\n",
       "      <td>1998.0</td>\n",
       "      <td>6.0</td>\n",
       "      <td>26.0</td>\n",
       "      <td>NYSE:DOX</td>\n",
       "    </tr>\n",
       "    <tr>\n",
       "      <th>34</th>\n",
       "      <td>52cdef7d4bab8bd6752991f2</td>\n",
       "      <td>J2 Global Communications</td>\n",
       "      <td>NaN</td>\n",
       "      <td>&lt;p&gt;Founded in 1995, j2 Global Communications, ...</td>\n",
       "      <td>NaN</td>\n",
       "      <td>USD</td>\n",
       "      <td>NaN</td>\n",
       "      <td>NaN</td>\n",
       "      <td>NaN</td>\n",
       "      <td>NASDAQ:JCOM</td>\n",
       "    </tr>\n",
       "    <tr>\n",
       "      <th>35</th>\n",
       "      <td>52cdef7d4bab8bd6752994fc</td>\n",
       "      <td>Travelzoo</td>\n",
       "      <td>NaN</td>\n",
       "      <td>&lt;p&gt;Travelzoo Inc. is a global Internet media c...</td>\n",
       "      <td>NaN</td>\n",
       "      <td>USD</td>\n",
       "      <td>2003.0</td>\n",
       "      <td>12.0</td>\n",
       "      <td>NaN</td>\n",
       "      <td>NASDAQ:TZOO</td>\n",
       "    </tr>\n",
       "    <tr>\n",
       "      <th>36</th>\n",
       "      <td>52cdef7e4bab8bd67529aa89</td>\n",
       "      <td>Veraz Networks</td>\n",
       "      <td>NaN</td>\n",
       "      <td>&lt;p&gt;Veraz Networks, Inc. provides voice infrast...</td>\n",
       "      <td>NaN</td>\n",
       "      <td>USD</td>\n",
       "      <td>2006.0</td>\n",
       "      <td>10.0</td>\n",
       "      <td>20.0</td>\n",
       "      <td>VRAZ</td>\n",
       "    </tr>\n",
       "    <tr>\n",
       "      <th>37</th>\n",
       "      <td>52cdef7f4bab8bd67529bf1a</td>\n",
       "      <td>Dice Holdings</td>\n",
       "      <td>NaN</td>\n",
       "      <td>&lt;p&gt;Dice Holdings is a provider of specialized ...</td>\n",
       "      <td>NaN</td>\n",
       "      <td>USD</td>\n",
       "      <td>2007.0</td>\n",
       "      <td>7.0</td>\n",
       "      <td>18.0</td>\n",
       "      <td>DHX</td>\n",
       "    </tr>\n",
       "  </tbody>\n",
       "</table>\n",
       "</div>"
      ],
      "text/plain": [
       "                         _id                          name  founded_year  \\\n",
       "0   52cdef7d4bab8bd675299d5d                       Groupon        2008.0   \n",
       "1   52cdef7f4bab8bd67529c1f7                   CrowdGather        2008.0   \n",
       "2   52cdef7c4bab8bd67529805d                           Wix        2006.0   \n",
       "3   52cdef7e4bab8bd67529af2b          Qihoo 360 Technology        2005.0   \n",
       "4   52cdef7c4bab8bd6752981a7                   TripAdvisor        2000.0   \n",
       "5   52cdef7c4bab8bd675298222                      comScore        1999.0   \n",
       "6   52cdef7c4bab8bd675297f36                     OpenTable        1998.0   \n",
       "7   52cdef7c4bab8bd675298674                       Tencent        1998.0   \n",
       "8   52cdef7f4bab8bd67529bf18                       COOKPAD        1997.0   \n",
       "9   52cdef7c4bab8bd6752980df                       Blucora        1996.0   \n",
       "10  52cdef7c4bab8bd67529822a                       Expedia        1996.0   \n",
       "11  52cdef7c4bab8bd6752983ca                         ePals        1996.0   \n",
       "12  52cdef7c4bab8bd675298404                      XO Group        1996.0   \n",
       "13  52cdef7c4bab8bd6752986f1                         WebMD        1996.0   \n",
       "14  52cdef7c4bab8bd67529872f                   Travelocity        1996.0   \n",
       "15  52cdef7c4bab8bd675297d9b                          eBay        1995.0   \n",
       "16  52cdef7c4bab8bd6752987c2                  Angie's List        1995.0   \n",
       "17  52cdef7c4bab8bd675297da3                        Yahoo!        1994.0   \n",
       "18  52cdef7c4bab8bd675297e29  Scripps Networks Interactive        1994.0   \n",
       "19  52cdef7e4bab8bd67529b1cb                     EarthLink        1994.0   \n",
       "20  52cdef7d4bab8bd6752997ae                      Bankrate        1993.0   \n",
       "21  52cdef7d4bab8bd675299b38                      Bankrate        1993.0   \n",
       "22  52cdef7f4bab8bd67529be92                Onstream Media        1993.0   \n",
       "23  52cdef7c4bab8bd67529857c                       SanDisk        1988.0   \n",
       "24  52cdef7c4bab8bd675297e96                           AOL        1985.0   \n",
       "25  52cdef7c4bab8bd67529835a              Princeton Review        1981.0   \n",
       "26  52cdef7c4bab8bd675297d9f                        Viacom        1971.0   \n",
       "27  52cdef7c4bab8bd675297e98               Hewlett-Packard        1939.0   \n",
       "28  52cdef7c4bab8bd675297f15                       Nielsen        1922.0   \n",
       "29  52cdef7c4bab8bd675297dad                       Gannett           NaN   \n",
       "30  52cdef7c4bab8bd675298658            Live Current Media           NaN   \n",
       "31  52cdef7d4bab8bd6752989bd                Spark Networks           NaN   \n",
       "32  52cdef7d4bab8bd675298d5a                      Alterian           NaN   \n",
       "33  52cdef7d4bab8bd67529907c                        Amdocs           NaN   \n",
       "34  52cdef7d4bab8bd6752991f2      J2 Global Communications           NaN   \n",
       "35  52cdef7d4bab8bd6752994fc                     Travelzoo           NaN   \n",
       "36  52cdef7e4bab8bd67529aa89                Veraz Networks           NaN   \n",
       "37  52cdef7f4bab8bd67529bf1a                 Dice Holdings           NaN   \n",
       "\n",
       "                                             overview  ipo.valuation_amount  \\\n",
       "0   <p>Groupon (NASDAQ: GRPN) is a global leader i...          1.280000e+10   \n",
       "1   <p><a href=\"http://www.crowdgather.com/\" title...                   NaN   \n",
       "2   <p>Wix.com Ltd., (www.wix.com) is a leading cl...          7.500000e+08   \n",
       "3   <p>Qihoo 360 Technology Co Ltd (Qihoo 360), fo...                   NaN   \n",
       "4   <p>TripAdvisor is a free travel guide and rese...          3.273770e+09   \n",
       "5   <p>&#8220;comScore is a global Internet inform...                   NaN   \n",
       "6   <p>OpenTable provides a restaurant management ...          1.050000e+09   \n",
       "7   <p>Tencent is one of China&#8217;s largest and...          1.100000e+10   \n",
       "8   <p>COOKPAD is the world’s largest recipe site ...                   NaN   \n",
       "9   <p>Infospace Becomes Blucora. Blucora, Inc. [N...                   NaN   \n",
       "10  <p>Expedia.com is an Internet-based travel age...                   NaN   \n",
       "11  <p>ePals Corporation (TSXV: SLN) is an educati...                   NaN   \n",
       "12  <p>XO Group Inc. (NYSE: XOXO; www.xogroupinc.c...                   NaN   \n",
       "13  <p>WebMD is the leading provider of health inf...                   NaN   \n",
       "14  <p><a href=\"http://www.travelocity.com/\" title...                   NaN   \n",
       "15  <p>Founded in 1995 in San Jose, CA, eBay conne...                   NaN   \n",
       "16  <p>Angie&#8217;s List, Inc. provides consumer ...                   NaN   \n",
       "17  <p>Yahoo was founded in 1994 by Stanford Ph.D....                   NaN   \n",
       "18  <p>Scripps Networks, a division of Scripps Net...                   NaN   \n",
       "19  <p>EarthLink, Inc. is an Internet service prov...                   NaN   \n",
       "20  <p>Bankrate is a leading publisher, aggregator...                   NaN   \n",
       "21  <p>Bankrate is a leading publisher, aggregator...                   NaN   \n",
       "22  <p>Onstream Media Corporation (Nasdaq: ONSM) i...                   NaN   \n",
       "23  <p>Founded in 1988 by Dr. Eli Harari, an inter...                   NaN   \n",
       "24  <p>AOL is a global advertising-supported Web c...                   NaN   \n",
       "25  <p>The Princeton Review, Inc. provides integra...                   NaN   \n",
       "26  <p>Viacom, short for &#8220;Video &amp; Audio ...                   NaN   \n",
       "27  <p>Hewlett-Packard technology corporation head...                   NaN   \n",
       "28  <p>Nielsen is a leading global provider of inf...          1.600000e+09   \n",
       "29  <p>Gannett is an international news and inform...                   NaN   \n",
       "30  <p>Live Current Media Inc. (Live Current) is a...                   NaN   \n",
       "31  <p>As a leading provider of online personals s...                   NaN   \n",
       "32  <p>Alterian (LSE: ALN) helps marketers improve...                   NaN   \n",
       "33  <p>A global company (NYSE: DOX) with revenue o...                   NaN   \n",
       "34  <p>Founded in 1995, j2 Global Communications, ...                   NaN   \n",
       "35  <p>Travelzoo Inc. is a global Internet media c...                   NaN   \n",
       "36  <p>Veraz Networks, Inc. provides voice infrast...                   NaN   \n",
       "37  <p>Dice Holdings is a provider of specialized ...                   NaN   \n",
       "\n",
       "   ipo.valuation_currency_code  ipo.pub_year  ipo.pub_month  ipo.pub_day  \\\n",
       "0                          USD        2011.0           11.0          7.0   \n",
       "1                          USD        2008.0            5.0         30.0   \n",
       "2                          USD        2013.0           11.0          6.0   \n",
       "3                          USD        2011.0            4.0          8.0   \n",
       "4                          USD        2011.0           12.0         21.0   \n",
       "5                          USD        2007.0            4.0          3.0   \n",
       "6                          USD        2009.0            5.0         21.0   \n",
       "7                          USD        2004.0            6.0         16.0   \n",
       "8                          USD        2009.0            7.0          NaN   \n",
       "9                          USD        2013.0            8.0          1.0   \n",
       "10                         USD        2005.0            7.0         29.0   \n",
       "11                         USD           NaN            NaN          NaN   \n",
       "12                         USD        1999.0           12.0          2.0   \n",
       "13                         USD           NaN            NaN          NaN   \n",
       "14                         USD        2000.0            NaN          NaN   \n",
       "15                         USD        1998.0           10.0          2.0   \n",
       "16                         USD        2011.0           11.0         25.0   \n",
       "17                         USD        1996.0            4.0         12.0   \n",
       "18                         USD        2008.0            6.0         20.0   \n",
       "19                         USD        1997.0            1.0         31.0   \n",
       "20                         USD        2011.0            6.0         24.0   \n",
       "21                         USD        2011.0            6.0         24.0   \n",
       "22                         USD           NaN            NaN          NaN   \n",
       "23                         USD        1995.0           11.0         17.0   \n",
       "24                         USD        2009.0           12.0          4.0   \n",
       "25                         USD           NaN            NaN          NaN   \n",
       "26                         USD           NaN            NaN          NaN   \n",
       "27                         USD        1978.0            1.0         13.0   \n",
       "28                         USD        2011.0            1.0         26.0   \n",
       "29                         USD        1978.0            1.0         13.0   \n",
       "30                         USD        2000.0            NaN          NaN   \n",
       "31                         USD        2006.0            2.0         14.0   \n",
       "32                         USD           NaN            NaN          NaN   \n",
       "33                         USD        1998.0            6.0         26.0   \n",
       "34                         USD           NaN            NaN          NaN   \n",
       "35                         USD        2003.0           12.0          NaN   \n",
       "36                         USD        2006.0           10.0         20.0   \n",
       "37                         USD        2007.0            7.0         18.0   \n",
       "\n",
       "   ipo.stock_symbol  \n",
       "0       NASDAQ:GRPN  \n",
       "1      OTCMKTS:CRWG  \n",
       "2        NASDAQ:WIX  \n",
       "3         NYSE:QIHU  \n",
       "4              TRIP  \n",
       "5              SCOR  \n",
       "6       NASDAQ:OPEN  \n",
       "7           HK:0700  \n",
       "8          TYO:2193  \n",
       "9       NASDAQ:BCOR  \n",
       "10      NASDAQ:EXPE  \n",
       "11          CVE:SLN  \n",
       "12             XOXO  \n",
       "13      NASDAQ:WBMD  \n",
       "14              TSG  \n",
       "15      NASDAQ:EBAY  \n",
       "16      NASDAQ:ANGI  \n",
       "17      NASDAQ:YHOO  \n",
       "18         NYSE:SNI  \n",
       "19      NASDAQ:ELNK  \n",
       "20        NYSE:RATE  \n",
       "21        NYSE:RATE  \n",
       "22      NASDAQ:ONSM  \n",
       "23      NASDAQ:SNDK  \n",
       "24         NYSE:AOL  \n",
       "25      NASDAQ:REVU  \n",
       "26         NYSE:VIA  \n",
       "27         NYSE:HPQ  \n",
       "28        NYSE:NLSN  \n",
       "29         NYSE:GCI  \n",
       "30             CMNN  \n",
       "31   NYSE Amex: LOV  \n",
       "32          LSE:ALN  \n",
       "33         NYSE:DOX  \n",
       "34      NASDAQ:JCOM  \n",
       "35      NASDAQ:TZOO  \n",
       "36             VRAZ  \n",
       "37              DHX  "
      ]
     },
     "execution_count": 40,
     "metadata": {},
     "output_type": "execute_result"
    }
   ],
   "source": [
    "# Refactoring:\n",
    "\n",
    "import pandas as pd\n",
    "from pandas.io.json import json_normalize\n",
    "\n",
    "\n",
    "data = list( db.companies.find({\"category_code\":\"web\", \"ipo\":{\"$ne\": None}},\n",
    "                       {\"name\":1, \"founded_year\":1,\"overview\":1, \"ipo\":1}\n",
    "                       \n",
    "                       ).sort(\"founded_year\",-1))\n",
    "\n",
    "df = pd.json_normalize(data)\n",
    "df"
   ]
  },
  {
   "cell_type": "code",
   "execution_count": 41,
   "metadata": {},
   "outputs": [
    {
     "data": {
      "text/html": [
       "<div>\n",
       "<style scoped>\n",
       "    .dataframe tbody tr th:only-of-type {\n",
       "        vertical-align: middle;\n",
       "    }\n",
       "\n",
       "    .dataframe tbody tr th {\n",
       "        vertical-align: top;\n",
       "    }\n",
       "\n",
       "    .dataframe thead th {\n",
       "        text-align: right;\n",
       "    }\n",
       "</style>\n",
       "<table border=\"1\" class=\"dataframe\">\n",
       "  <thead>\n",
       "    <tr style=\"text-align: right;\">\n",
       "      <th></th>\n",
       "      <th>name</th>\n",
       "      <th>founded_year</th>\n",
       "      <th>overview</th>\n",
       "      <th>ipo.valuation_amount</th>\n",
       "      <th>ipo.valuation_currency_code</th>\n",
       "      <th>ipo.pub_year</th>\n",
       "      <th>ipo.pub_month</th>\n",
       "      <th>ipo.pub_day</th>\n",
       "      <th>ipo.stock_symbol</th>\n",
       "    </tr>\n",
       "  </thead>\n",
       "  <tbody>\n",
       "    <tr>\n",
       "      <th>0</th>\n",
       "      <td>Groupon</td>\n",
       "      <td>2008.0</td>\n",
       "      <td>&lt;p&gt;Groupon (NASDAQ: GRPN) is a global leader i...</td>\n",
       "      <td>1.280000e+10</td>\n",
       "      <td>USD</td>\n",
       "      <td>2011.0</td>\n",
       "      <td>11.0</td>\n",
       "      <td>7.0</td>\n",
       "      <td>NASDAQ:GRPN</td>\n",
       "    </tr>\n",
       "    <tr>\n",
       "      <th>4</th>\n",
       "      <td>TripAdvisor</td>\n",
       "      <td>2000.0</td>\n",
       "      <td>&lt;p&gt;TripAdvisor is a free travel guide and rese...</td>\n",
       "      <td>3.273770e+09</td>\n",
       "      <td>USD</td>\n",
       "      <td>2011.0</td>\n",
       "      <td>12.0</td>\n",
       "      <td>21.0</td>\n",
       "      <td>TRIP</td>\n",
       "    </tr>\n",
       "    <tr>\n",
       "      <th>28</th>\n",
       "      <td>Nielsen</td>\n",
       "      <td>1922.0</td>\n",
       "      <td>&lt;p&gt;Nielsen is a leading global provider of inf...</td>\n",
       "      <td>1.600000e+09</td>\n",
       "      <td>USD</td>\n",
       "      <td>2011.0</td>\n",
       "      <td>1.0</td>\n",
       "      <td>26.0</td>\n",
       "      <td>NYSE:NLSN</td>\n",
       "    </tr>\n",
       "  </tbody>\n",
       "</table>\n",
       "</div>"
      ],
      "text/plain": [
       "           name  founded_year  \\\n",
       "0       Groupon        2008.0   \n",
       "4   TripAdvisor        2000.0   \n",
       "28      Nielsen        1922.0   \n",
       "\n",
       "                                             overview  ipo.valuation_amount  \\\n",
       "0   <p>Groupon (NASDAQ: GRPN) is a global leader i...          1.280000e+10   \n",
       "4   <p>TripAdvisor is a free travel guide and rese...          3.273770e+09   \n",
       "28  <p>Nielsen is a leading global provider of inf...          1.600000e+09   \n",
       "\n",
       "   ipo.valuation_currency_code  ipo.pub_year  ipo.pub_month  ipo.pub_day  \\\n",
       "0                          USD        2011.0           11.0          7.0   \n",
       "4                          USD        2011.0           12.0         21.0   \n",
       "28                         USD        2011.0            1.0         26.0   \n",
       "\n",
       "   ipo.stock_symbol  \n",
       "0       NASDAQ:GRPN  \n",
       "4              TRIP  \n",
       "28        NYSE:NLSN  "
      ]
     },
     "execution_count": 41,
     "metadata": {},
     "output_type": "execute_result"
    }
   ],
   "source": [
    "#loaded some data, time to do an exploration\n",
    "df2 = df\n",
    "df2 = df2.drop(columns=\"_id\")\n",
    "df2.sort_values(\"ipo.pub_year\", ascending=False)\n",
    "df2[\"ipo.valuation_amount\"] = df2[\"ipo.valuation_amount\"].fillna(0)\n",
    "df2[df[\"ipo.pub_year\"] > 2010].sort_values(\"ipo.valuation_amount\", ascending=False).head(3)"
   ]
  },
  {
   "cell_type": "code",
   "execution_count": 42,
   "metadata": {},
   "outputs": [
    {
     "data": {
      "text/plain": [
       "Index(['_id', 'name', 'founded_year', 'overview', 'ipo.valuation_amount',\n",
       "       'ipo.valuation_currency_code', 'ipo.pub_year', 'ipo.pub_month',\n",
       "       'ipo.pub_day', 'ipo.stock_symbol'],\n",
       "      dtype='object')"
      ]
     },
     "execution_count": 42,
     "metadata": {},
     "output_type": "execute_result"
    }
   ],
   "source": [
    "df.columns"
   ]
  },
  {
   "cell_type": "code",
   "execution_count": 75,
   "metadata": {},
   "outputs": [
    {
     "data": {
      "text/plain": [
       "Text(0, 0.5, 'Billions of that currency')"
      ]
     },
     "execution_count": 75,
     "metadata": {},
     "output_type": "execute_result"
    },
    {
     "data": {
      "image/png": "[encoded data removed]",
      "text/plain": [
       "<Figure size 1080x216 with 2 Axes>"
      ]
     },
     "metadata": {
      "needs_background": "light"
     },
     "output_type": "display_data"
    }
   ],
   "source": [
    "import matplotlib.pyplot as plt\n",
    "f,a= plt.subplots(1,2, figsize=(15,3))\n",
    "df.shape\n",
    "df4 = df['ipo.valuation_amount']\n",
    "\n",
    "a[1].plot(df['ipo.valuation_amount'].dropna(), 'x')\n",
    "a[1].plot(df)\n",
    "\n",
    "a[1].set_title('ipo.valuation_amount')\n",
    "a[1].set_ylabel(\"Billions of that currency\")"
   ]
  },
  {
   "cell_type": "code",
   "execution_count": null,
   "metadata": {},
   "outputs": [],
   "source": []
  },
  {
   "cell_type": "code",
   "execution_count": null,
   "metadata": {},
   "outputs": [],
   "source": []
  },
  {
   "cell_type": "code",
   "execution_count": null,
   "metadata": {},
   "outputs": [],
   "source": []
  }
 ],
 "metadata": {
  "kernelspec": {
   "display_name": "Python 3",
   "language": "python",
   "name": "python3"
  },
  "language_info": {
   "codemirror_mode": {
    "name": "ipython",
    "version": 3
   },
   "file_extension": ".py",
   "mimetype": "text/x-python",
   "name": "python",
   "nbconvert_exporter": "python",
   "pygments_lexer": "ipython3",
   "version": "3.6.9"
  }
 },
 "nbformat": 4,
 "nbformat_minor": 2
}
