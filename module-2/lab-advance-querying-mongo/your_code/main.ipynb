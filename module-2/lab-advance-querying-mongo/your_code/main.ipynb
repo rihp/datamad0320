{
 "cells": [
  {
   "cell_type": "markdown",
   "metadata": {},
   "source": [
    "# Advanced Querying Mongo"
   ]
  },
  {
   "cell_type": "markdown",
   "metadata": {},
   "source": [
    "Importing libraries and setting up connection"
   ]
  },
  {
   "cell_type": "code",
   "execution_count": 2,
   "metadata": {},
   "outputs": [],
   "source": [
    "from pymongo import MongoClient\n",
    "db = 'companies'\n",
    "client = MongoClient(f\"mongodb://localhost/{db}\")\n",
    "db = client.get_database()"
   ]
  },
  {
   "cell_type": "code",
   "execution_count": 3,
   "metadata": {},
   "outputs": [
    {
     "name": "stdout",
     "output_type": "stream",
     "text": [
      "{'name': 'companies', 'type': 'collection', 'options': {}, 'info': {'readOnly': False, 'uuid': UUID('76992dc7-b5e1-4dcd-9a37-b36c0e165615')}, 'idIndex': {'v': 2, 'key': {'_id': 1}, 'name': '_id_', 'ns': 'companies.companies'}}\n"
     ]
    }
   ],
   "source": [
    "# Your Code\n",
    "cur = db.list_collections()\n",
    "for collection in cur:\n",
    "    print(collection)"
   ]
  },
  {
   "cell_type": "markdown",
   "metadata": {},
   "source": [
    "### 1. All the companies whose name match 'Babelgum'. Retrieve only their `name` field."
   ]
  },
  {
   "cell_type": "code",
   "execution_count": 4,
   "metadata": {},
   "outputs": [
    {
     "name": "stdout",
     "output_type": "stream",
     "text": [
      "Babelgum\n"
     ]
    }
   ],
   "source": [
    "cur = db.companies.find({\"name\":\"Babelgum\"})\n",
    "for collec in cur:\n",
    "    print(collec[\"name\"])"
   ]
  },
  {
   "cell_type": "markdown",
   "metadata": {},
   "source": [
    "### 2. All the companies that have more than 5000 employees. Limit the search to 20 companies and sort them by **number of employees**."
   ]
  },
  {
   "cell_type": "code",
   "execution_count": 5,
   "metadata": {},
   "outputs": [
    {
     "name": "stdout",
     "output_type": "stream",
     "text": [
      "405000 Siemens\n",
      "388000 IBM\n",
      "320000 Toyota\n",
      "300000 PayPal\n",
      "227000 Nippon Telegraph and Telephone Corporation\n",
      "221726 Samsung Electronics\n",
      "205000 Accenture\n",
      "200300 Tata Consultancy Services\n",
      "200000 Flextronics International\n",
      "186000 Safeway\n",
      "180500 Sony\n",
      "177000 LG\n",
      "171000 Ford\n",
      "160000 Boeing\n",
      "140000 Digital Equipment Corporation\n",
      "125000 Nokia\n",
      "107000 MItsubishi Electric\n",
      "107000 MItsubishi Electric\n",
      "100000 Comcast\n",
      "100000 Bertelsmann\n"
     ]
    }
   ],
   "source": [
    "from pymongo import ASCENDING, DESCENDING\n",
    "cur = db.companies.find({\"number_of_employees\":{ \"$gt\" :5000}}\n",
    "                       ).sort([(\"number_of_employees\", DESCENDING)]\n",
    "                        ).limit(20)\n",
    "for collec in cur:\n",
    "    print( collec[\"number_of_employees\"], collec[\"name\"])"
   ]
  },
  {
   "cell_type": "markdown",
   "metadata": {},
   "source": [
    "### 3. All the companies founded between 2000 and 2005, both years included. Retrieve only the `name` and `founded_year` fields."
   ]
  },
  {
   "cell_type": "code",
   "execution_count": 6,
   "metadata": {},
   "outputs": [
    {
     "name": "stderr",
     "output_type": "stream",
     "text": [
      "/home/rh/.local/lib/python3.6/site-packages/ipykernel_launcher.py:1: DeprecationWarning: count is deprecated. Use Collection.count_documents instead.\n",
      "  \"\"\"Entry point for launching an IPython kernel.\n"
     ]
    },
    {
     "data": {
      "text/plain": [
       "3734"
      ]
     },
     "execution_count": 6,
     "metadata": {},
     "output_type": "execute_result"
    }
   ],
   "source": [
    "cur = db.companies.find({\"founded_year\":{\"$gte\":2000, \"$lte\":2005}}).count()\n",
    "\n",
    "# comment out the long answer, and only querying the count()\n",
    "#for coll in cur:\n",
    " #   print(coll['founded_year'], coll['name'], )\n",
    "cur"
   ]
  },
  {
   "cell_type": "markdown",
   "metadata": {},
   "source": [
    "### 4. All the companies that had a Valuation Amount of more than 100.000.000 and have been founded before 2010. Retrieve only the `name` and `ipo` fields."
   ]
  },
  {
   "cell_type": "code",
   "execution_count": 7,
   "metadata": {},
   "outputs": [
    {
     "name": "stdout",
     "output_type": "stream",
     "text": [
      "Facebook {'valuation_amount': 104000000000, 'valuation_currency_code': 'USD', 'pub_year': 2012, 'pub_month': 5, 'pub_day': 18, 'stock_symbol': 'NASDAQ:FB'}\n",
      "Twitter {'valuation_amount': 18100000000, 'valuation_currency_code': 'USD', 'pub_year': 2013, 'pub_month': 11, 'pub_day': 7, 'stock_symbol': 'NYSE:TWTR'}\n",
      "Yelp {'valuation_amount': 1300000000, 'valuation_currency_code': 'USD', 'pub_year': 2012, 'pub_month': 3, 'pub_day': 2, 'stock_symbol': 'NYSE:YELP'}\n"
     ]
    }
   ],
   "source": [
    "# Your Code\n",
    "cur = db.companies.find({\"founded_year\": {\"$lt\":2010},\n",
    "                         \"ipo.valuation_amount\":{\"$gt\":100000000}\n",
    "                        }).limit(3)\n",
    "\n",
    "for coll in cur:\n",
    "    print(coll['name'], coll['ipo'])"
   ]
  },
  {
   "cell_type": "markdown",
   "metadata": {},
   "source": [
    "### 5. All the companies that have less than 1000 employees and have been founded before 2005. Order them by the number of employees and limit the search to 10 companies."
   ]
  },
  {
   "cell_type": "code",
   "execution_count": 8,
   "metadata": {},
   "outputs": [
    {
     "name": "stdout",
     "output_type": "stream",
     "text": [
      "974 2000 Infinera Corporation \t\n",
      "948 1997 NorthPoint Communications Group \t\n",
      "931 1997 888 Holdings \t\n",
      "903 1983 Forrester Research \t\n",
      "900 1991 SonicWALL \t\n",
      "900 1999 Webmetrics \t\n",
      "881 1999 Cornerstone OnDemand \t\n",
      "800 2004 Yelp \t\n",
      "800 2000 ZoomInfo \t\n",
      "800 2003 MySpace \t\n"
     ]
    }
   ],
   "source": [
    "# Your Code\n",
    "cur = db.companies.find({\"number_of_employees\":{\"$lt\":1000}, \n",
    "                         \"founded_year\":{\"$lt\":2005}\n",
    "                        },{\n",
    "                           \"founded_year\":1,\"name\":1, \"number_of_employees\":1,\n",
    "                       }).limit(10).sort([(\"number_of_employees\",DESCENDING)])\n",
    "\n",
    "for x in list(cur):\n",
    "    print(x[\"number_of_employees\"], x[\"founded_year\"],x['name'],\"\\t\",)\n",
    "    \n",
    "# OK CREO QUE ES MUCHO MAS INTUITIVO QUE MYSQL TAMBIEN, AL MENOS A LA HORA DE QUERY"
   ]
  },
  {
   "cell_type": "markdown",
   "metadata": {},
   "source": [
    "### 6. All the companies that don't include the `partners` field."
   ]
  },
  {
   "cell_type": "code",
   "execution_count": 9,
   "metadata": {},
   "outputs": [
    {
     "name": "stderr",
     "output_type": "stream",
     "text": [
      "/home/rh/.local/lib/python3.6/site-packages/ipykernel_launcher.py:1: DeprecationWarning: count is deprecated. Use Collection.count_documents instead.\n",
      "  \"\"\"Entry point for launching an IPython kernel.\n",
      "/home/rh/.local/lib/python3.6/site-packages/ipykernel_launcher.py:2: DeprecationWarning: count is deprecated. Use Collection.count_documents instead.\n",
      "  \n"
     ]
    },
    {
     "data": {
      "text/plain": [
       "(18801, 0)"
      ]
     },
     "execution_count": 9,
     "metadata": {},
     "output_type": "execute_result"
    }
   ],
   "source": [
    "cur1 = db.companies.find({\"partners\":{\"$exists\":True}}).count()\n",
    "cur2 = db.companies.find({\"partners\":{\"$exists\":False}}).count()\n",
    "cur1, cur2"
   ]
  },
  {
   "cell_type": "markdown",
   "metadata": {},
   "source": [
    "### 7. All the companies that have a null type of value on the `category_code` field."
   ]
  },
  {
   "cell_type": "code",
   "execution_count": 10,
   "metadata": {},
   "outputs": [
    {
     "name": "stderr",
     "output_type": "stream",
     "text": [
      "/home/rh/.local/lib/python3.6/site-packages/ipykernel_launcher.py:1: DeprecationWarning: count is deprecated. Use Collection.count_documents instead.\n",
      "  \"\"\"Entry point for launching an IPython kernel.\n"
     ]
    },
    {
     "data": {
      "text/plain": [
       "2751"
      ]
     },
     "execution_count": 10,
     "metadata": {},
     "output_type": "execute_result"
    }
   ],
   "source": [
    "db.companies.find({\"category_code\":{\"$type\":10}}).count()"
   ]
  },
  {
   "cell_type": "markdown",
   "metadata": {},
   "source": [
    "### 8. All the companies that have at least 100 employees but less than 1000. Retrieve only the `name` and `number of employees` fields."
   ]
  },
  {
   "cell_type": "code",
   "execution_count": 11,
   "metadata": {},
   "outputs": [
    {
     "name": "stdout",
     "output_type": "stream",
     "text": [
      "984 Datamonitor\n",
      "974 Infinera Corporation\n",
      "950 Box\n",
      "948 NorthPoint Communications Group\n",
      "931 888 Holdings\n",
      "903 Forrester Research\n",
      "900 Workday\n",
      "900 InMobi\n",
      "900 Relax Solutions Pvt Ltd\n",
      "900 SonicWALL\n"
     ]
    }
   ],
   "source": [
    "# Your Code\n",
    "c =db.companies.find({\"number_of_employees\":{\"$gt\":100, \"$lt\":1000}},\n",
    "                     {\"number_of_employees\":1,\"name\":1}\n",
    "                    ).sort([(\"number_of_employees\",-1)]).limit(10)\n",
    "for c in c:\n",
    "    print(c[\"number_of_employees\"],c[\"name\"])"
   ]
  },
  {
   "cell_type": "markdown",
   "metadata": {},
   "source": [
    "### 9. Order all the companies by their IPO price in a descending order."
   ]
  },
  {
   "cell_type": "code",
   "execution_count": 12,
   "metadata": {},
   "outputs": [
    {
     "name": "stdout",
     "output_type": "stream",
     "text": [
      "{'_id': ObjectId('52cdef7c4bab8bd675297d8b'), 'name': 'AdventNet'}\n",
      "{'_id': ObjectId('52cdef7c4bab8bd675297d8a'), 'name': 'Wetpaint'}\n",
      "{'_id': ObjectId('52cdef7c4bab8bd675297d8c'), 'name': 'Zoho'}\n",
      "{'_id': ObjectId('52cdef7c4bab8bd675297d8f'), 'name': 'Omnidrive'}\n",
      "{'_id': ObjectId('52cdef7c4bab8bd675297d91'), 'name': 'Geni'}\n",
      "{'_id': ObjectId('52cdef7c4bab8bd675297d90'), 'name': 'Postini'}\n",
      "{'_id': ObjectId('52cdef7c4bab8bd675297d8d'), 'name': 'Digg'}\n",
      "{'_id': ObjectId('52cdef7c4bab8bd675297d92'), 'name': 'Flektor'}\n",
      "{'_id': ObjectId('52cdef7c4bab8bd675297d93'), 'name': 'Fox Interactive Media'}\n",
      "{'_id': ObjectId('52cdef7c4bab8bd675297d96'), 'name': 'Gizmoz'}\n",
      "{'_id': ObjectId('52cdef7c4bab8bd675297d97'), 'name': 'Scribd'}\n",
      "{'_id': ObjectId('52cdef7c4bab8bd675297d98'), 'name': 'Slacker'}\n",
      "{'_id': ObjectId('52cdef7c4bab8bd675297d8e'), 'name': 'Facebook', 'ipo': {'valuation_amount': 104000000000}}\n",
      "{'_id': ObjectId('52cdef7c4bab8bd675297d99'), 'name': 'Lala'}\n",
      "{'_id': ObjectId('52cdef7c4bab8bd675297d95'), 'name': 'StumbleUpon'}\n",
      "{'_id': ObjectId('52cdef7c4bab8bd675297d9a'), 'name': 'Helio'}\n",
      "{'_id': ObjectId('52cdef7c4bab8bd675297d9c'), 'name': 'MeetMoi'}\n",
      "{'_id': ObjectId('52cdef7c4bab8bd675297d9d'), 'name': 'Joost'}\n",
      "{'_id': ObjectId('52cdef7c4bab8bd675297da0'), 'name': 'Babelgum'}\n",
      "{'_id': ObjectId('52cdef7c4bab8bd675297da1'), 'name': 'Plaxo'}\n"
     ]
    }
   ],
   "source": [
    "# ¿Por que no funciona el query usando el operador $not  con $type??\n",
    "# recibo muchos objects sin el key de ipo\n",
    "\n",
    "c=db.companies.find({\"ipo.valuation_amount\":  {\"$not\":  {\"$type\":10}  }\n",
    "                    }, {\"name\":1,\"ipo.valuation_amount\":1}\n",
    "                   ) #.sort(\"ipo.valuation_amount\",-1)\n",
    "                   \n",
    "for e in c.limit(20):\n",
    "    print(e) #,e[\"ipo.valuation_amount\"])"
   ]
  },
  {
   "cell_type": "code",
   "execution_count": 13,
   "metadata": {},
   "outputs": [
    {
     "name": "stdout",
     "output_type": "stream",
     "text": [
      "108960000000 GREE\n",
      "104000000000 Facebook\n",
      "100000000000 Amazon\n",
      "18100000000 Twitter\n",
      "12800000000 Groupon\n",
      "11000000000 Tencent\n",
      "9430000000 Western Digital\n",
      "9310000000 LinkedIn\n",
      "6000000000 BMC Software\n",
      "5440000000 Rackspace\n"
     ]
    }
   ],
   "source": [
    "c=db.companies.find({\"ipo.valuation_amount\":  {\"$ne\":  None  }\n",
    "                    }, {\"name\":1,\"ipo.valuation_amount\":1}\n",
    "                   ).sort(\"ipo.valuation_amount\",-1).limit(10)\n",
    "                   \n",
    "for e in c:\n",
    "    print(e[\"ipo\"][\"valuation_amount\"], e[\"name\"])"
   ]
  },
  {
   "cell_type": "markdown",
   "metadata": {},
   "source": [
    "### 10. Retrieve the 10 companies with more employees, order by the `number of employees`"
   ]
  },
  {
   "cell_type": "code",
   "execution_count": 14,
   "metadata": {},
   "outputs": [
    {
     "data": {
      "text/plain": [
       "[{'_id': ObjectId('52cdef7d4bab8bd67529941a'),\n",
       "  'name': 'Siemens',\n",
       "  'number_of_employees': 405000},\n",
       " {'_id': ObjectId('52cdef7c4bab8bd67529856a'),\n",
       "  'name': 'IBM',\n",
       "  'number_of_employees': 388000},\n",
       " {'_id': ObjectId('52cdef7d4bab8bd675299d33'),\n",
       "  'name': 'Toyota',\n",
       "  'number_of_employees': 320000},\n",
       " {'_id': ObjectId('52cdef7c4bab8bd675297e89'),\n",
       "  'name': 'PayPal',\n",
       "  'number_of_employees': 300000},\n",
       " {'_id': ObjectId('52cdef7e4bab8bd67529b0fe'),\n",
       "  'name': 'Nippon Telegraph and Telephone Corporation',\n",
       "  'number_of_employees': 227000},\n",
       " {'_id': ObjectId('52cdef7d4bab8bd675298aa4'),\n",
       "  'name': 'Samsung Electronics',\n",
       "  'number_of_employees': 221726},\n",
       " {'_id': ObjectId('52cdef7d4bab8bd675298b99'),\n",
       "  'name': 'Accenture',\n",
       "  'number_of_employees': 205000},\n",
       " {'_id': ObjectId('52cdef7e4bab8bd67529a657'),\n",
       "  'name': 'Tata Consultancy Services',\n",
       "  'number_of_employees': 200300},\n",
       " {'_id': ObjectId('52cdef7e4bab8bd67529aa51'),\n",
       "  'name': 'Flextronics International',\n",
       "  'number_of_employees': 200000},\n",
       " {'_id': ObjectId('52cdef7d4bab8bd675299156'),\n",
       "  'name': 'Safeway',\n",
       "  'number_of_employees': 186000}]"
      ]
     },
     "execution_count": 14,
     "metadata": {},
     "output_type": "execute_result"
    }
   ],
   "source": [
    "# Your Code\n",
    "list(db.companies.find({},    {\"number_of_employees\":1, \"name\":1 }\n",
    "                      ).sort([(\"number_of_employees\",DESCENDING)]).limit(10))"
   ]
  },
  {
   "cell_type": "markdown",
   "metadata": {},
   "source": [
    "### 11. All the companies founded on the second semester of the year. Limit your search to 1000 companies."
   ]
  },
  {
   "cell_type": "code",
   "execution_count": 15,
   "metadata": {},
   "outputs": [
    {
     "name": "stdout",
     "output_type": "stream",
     "text": [
      "10 Wetpaint\n",
      "9 Zoho\n",
      "11 Omnidrive\n",
      "10 Digg\n",
      "10 Joost\n",
      "11 Plaxo\n",
      "10 Powerset\n",
      "9 eBay\n",
      "12 Kyte\n",
      "12 Thoof\n"
     ]
    }
   ],
   "source": [
    "c = db.companies.find({\"founded_month\":{\"$in\":[e for e in range(7,13)]}}\n",
    "                     ).limit(10)\n",
    "for coll in c:\n",
    "    print(coll[\"founded_month\"], coll['name'],)"
   ]
  },
  {
   "cell_type": "markdown",
   "metadata": {},
   "source": [
    "### 12. All the companies founded before 2000 that have an acquisition amount of more than 10.000.00"
   ]
  },
  {
   "cell_type": "code",
   "execution_count": 16,
   "metadata": {},
   "outputs": [
    {
     "name": "stdout",
     "output_type": "stream",
     "text": [
      "1500000000 USD \t 1998 PayPal \t\t finance\n",
      "7400000000 USD \t 1982 Sun Microsystems \t\t enterprise\n",
      "1200000000 USD \t 1999 Zappos \t\t web\n",
      "1008000000 USD \t 1998 Lastminute \t\t web\n",
      "4300000000 USD \t 1960 Sabre \t\t web\n",
      "1300000000 USD \t 1980 Digitas \t\t web\n",
      "1800000000 USD \t 1996 Omniture \t\t advertising\n",
      "1100000000 USD \t 1996 DoubleClick \t\t advertising\n",
      "8500000000 USD \t 1995 BEA Systems \t\t software\n",
      "6400000000 USD \t 1997 aQuantive \t\t web\n"
     ]
    }
   ],
   "source": [
    "# Your Code\n",
    "cur = db.companies.find({\"founded_year\":{\"$lt\":2000},\n",
    "                  \"acquisition.price_amount\":{\"$gt\":1000000000}}).limit(10)\n",
    "\n",
    "for e in cur:\n",
    "    print( e[\"acquisition\"][\"price_amount\"],e[\"acquisition\"][\"price_currency_code\"],\n",
    "          \"\\t\", e[\"founded_year\"], e['name'], \n",
    "          \"\\t\\t\",e['category_code'])"
   ]
  },
  {
   "cell_type": "markdown",
   "metadata": {},
   "source": [
    "### 13. All the companies that have been acquired after 2010, order by the acquisition amount, and retrieve only their `name` and `acquisition` field."
   ]
  },
  {
   "cell_type": "code",
   "execution_count": 17,
   "metadata": {},
   "outputs": [
    {
     "name": "stdout",
     "output_type": "stream",
     "text": [
      "USD 39000000000 T-Mobile\n",
      "USD 18400000000 Goodrich Corporation\n",
      "USD 6600000000 LSI\n",
      "USD 6500000000 National Semiconductor\n",
      "USD 4300000000 Ariba\n",
      "USD 3700000000 NetLogic Microsystems\n",
      "USD 3400000000 SuccessFactors\n",
      "USD 3100000000 Qualcomm Atheros\n",
      "USD 3000000000 Global Crossing\n",
      "USD 3000000000 Global Crossing\n"
     ]
    }
   ],
   "source": [
    "c = db.companies.find({\"acquisition.acquired_year\":{\"$gt\":2010}},\n",
    "                      {\"name\":1,\"acquisition\":1}\n",
    "                     ).sort([(\"acquisition.price_amount\", DESCENDING)]).limit(10)\n",
    "for coll in c:\n",
    "    print(e[\"acquisition\"][\"price_currency_code\"],\n",
    "          coll[\"acquisition\"][\"price_amount\"],\n",
    "          coll['name'])"
   ]
  },
  {
   "cell_type": "markdown",
   "metadata": {},
   "source": [
    "### 14. Order the companies by their `founded year`, retrieving only their `name` and `founded year`."
   ]
  },
  {
   "cell_type": "code",
   "execution_count": 18,
   "metadata": {},
   "outputs": [
    {
     "name": "stdout",
     "output_type": "stream",
     "text": [
      "1800 Alstrasoft\n",
      "1800 SmallWorlds\n",
      "1800 US Army\n",
      "1802 DuPont\n",
      "1833 McKesson\n",
      "1833 Bachmann Industries\n",
      "1835 Bertelsmann\n",
      "1836 Accuity\n",
      "1839 CENTRA\n",
      "1840 WeGame\n"
     ]
    }
   ],
   "source": [
    "c= db.companies.find({\"founded_year\":{\"$gt\":0}},\n",
    "                     {\"name\":1,\"founded_year\":1}\n",
    "                     ).sort([(\"founded_year\",ASCENDING)]   \n",
    "                     ).limit(10)\n",
    "for e in c:\n",
    "    print(e[\"founded_year\"],e[\"name\"])"
   ]
  },
  {
   "cell_type": "markdown",
   "metadata": {},
   "source": [
    "### 15. All the companies that have been founded on the first seven days of the month, including the seventh. Sort them by their `acquisition price` in a descending order. Limit the search to 10 documents."
   ]
  },
  {
   "cell_type": "code",
   "execution_count": 19,
   "metadata": {},
   "outputs": [
    {
     "name": "stdout",
     "output_type": "stream",
     "text": [
      "1 Omnidrive\n",
      "1 Geni\n",
      "2 Postini\n",
      "1 Fox Interactive Media\n",
      "1 Gizmoz\n",
      "1 Facebook\n",
      "1 StumbleUpon\n",
      "1 Helio\n",
      "1 Joost\n",
      "1 Babelgum\n"
     ]
    }
   ],
   "source": [
    "days=[e for e in range(8)]\n",
    "c = db.companies.find({\"founded_day\":{\"$in\":days}}).limit(10)\n",
    "for e in c:\n",
    "    print(e[\"founded_day\"], e[\"name\"])"
   ]
  },
  {
   "cell_type": "markdown",
   "metadata": {},
   "source": [
    "### 16. All the companies on the 'web' `category` that have more than 4000 employees. Sort them by the amount of employees in ascending order."
   ]
  },
  {
   "cell_type": "code",
   "execution_count": 20,
   "metadata": {},
   "outputs": [
    {
     "name": "stdout",
     "output_type": "stream",
     "text": [
      "web 4400 Expedia\n",
      "web 8000 AOL\n",
      "web 8657 Webkinz\n",
      "web 10000 Rakuten\n",
      "web 10000 Los Angeles Times Media Group\n",
      "web 10000 Groupon\n",
      "web 13600 Yahoo!\n",
      "web 15000 eBay\n",
      "web 15500 Experian\n"
     ]
    }
   ],
   "source": [
    "# Your Code\n",
    "c=db.companies.find({\"category_code\":\"web\", \"number_of_employees\":{\"$gt\":4000}}\n",
    "                   ).sort([(\"number_of_employees\",ASCENDING)])\n",
    "for e in c:\n",
    "    print(e[\"category_code\"], e[\"number_of_employees\"], e[\"name\"])"
   ]
  },
  {
   "cell_type": "markdown",
   "metadata": {},
   "source": [
    "### 17. All the companies whose acquisition amount is more than 10.000.000, and currency is 'EUR'."
   ]
  },
  {
   "cell_type": "code",
   "execution_count": 21,
   "metadata": {},
   "outputs": [
    {
     "name": "stdout",
     "output_type": "stream",
     "text": [
      "31500000 EUR mobile 25 \t ZYB\n",
      "140000000 EUR mobile None \t Apertio\n",
      "40000000 EUR public_relations None \t Greenfield Online\n",
      "70000000 EUR web 50 \t Webedia\n",
      "24000000 EUR None None \t Wayfinder\n",
      "70000000 EUR social 170 \t Tuenti Technologies\n",
      "43400000 EUR ecommerce None \t BioMed Central\n"
     ]
    }
   ],
   "source": [
    "# Your Code\n",
    "c=db.companies.find({\"acquisition.price_amount\":{\"$gt\":10000000},\n",
    "                     \"acquisition.price_currency_code\":\"EUR\"})\n",
    "\n",
    "for e in c:\n",
    "    print(e[\"acquisition\"][\"price_amount\"], e[\"acquisition\"][\"price_currency_code\"],\n",
    "          e[\"category_code\"],\n",
    "          e[\"number_of_employees\"],\"\\t\", e[\"name\"])"
   ]
  },
  {
   "cell_type": "markdown",
   "metadata": {},
   "source": [
    "### 18. All the companies that have been acquired on the first trimester of the year. Limit the search to 10 companies, and retrieve only their `name` and `acquisition` fields."
   ]
  },
  {
   "cell_type": "code",
   "execution_count": 22,
   "metadata": {},
   "outputs": [
    {
     "name": "stdout",
     "output_type": "stream",
     "text": [
      "1 Kyte\n",
      "2 NetRatings\n",
      "3 blogTV\n",
      "1 Livestream\n",
      "2 iContact\n",
      "2 Coghead\n",
      "2 Dailymotion\n",
      "2 Netvibes\n",
      "3 Flickr\n",
      "3 BabyCenter\n"
     ]
    },
    {
     "name": "stderr",
     "output_type": "stream",
     "text": [
      "/home/rh/.local/lib/python3.6/site-packages/ipykernel_launcher.py:7: DeprecationWarning: count is deprecated. Use Collection.count_documents instead.\n",
      "  import sys\n"
     ]
    },
    {
     "data": {
      "text/plain": [
       "642"
      ]
     },
     "execution_count": 22,
     "metadata": {},
     "output_type": "execute_result"
    }
   ],
   "source": [
    "rng= [e for e in range(0,4)]\n",
    "c=db.companies.find({\"acquisition.acquired_month\":{\"$in\":rng}},\n",
    "                    {\"name\":1, \"acquisition\":1}).limit(10)\n",
    "for e in c:\n",
    "    print(e[\"acquisition\"][\"acquired_month\"], e[\"name\"])\n",
    "\n",
    "c.count()"
   ]
  },
  {
   "cell_type": "markdown",
   "metadata": {},
   "source": [
    "# Bonus\n",
    "### 19. All the companies that have been founded between 2000 and 2010, but have not been acquired before 2011."
   ]
  },
  {
   "cell_type": "code",
   "execution_count": 29,
   "metadata": {},
   "outputs": [
    {
     "name": "stdout",
     "output_type": "stream",
     "text": [
      "2005 2013 Wetpaint\n",
      "2006 2012 Geni\n",
      "2004 2012 Digg\n",
      "2006 2011 Kyte\n",
      "2005 2011 Jingle Networks\n",
      "2006 2013 blogTV\n",
      "2003 2011 delicious\n",
      "2005 2012 Revision3\n",
      "2003 2012 iContact\n",
      "2006 2013 Mashery\n"
     ]
    }
   ],
   "source": [
    "# Your Code\n",
    "c =db.companies.find({\"founded_year\":{\"$gt\":2000,\"$lt\":2010 },\n",
    "                     \"acquisition.acquired_year\":{\"$gte\":2011}\n",
    "                     },\n",
    "                 ).limit(10)\n",
    "for e in c:\n",
    "    print(e[\"founded_year\"], e[\"acquisition\"][\"acquired_year\"] ,e[\"name\"])"
   ]
  },
  {
   "cell_type": "markdown",
   "metadata": {},
   "source": [
    "### 20. All the companies that have been 'deadpooled' after the third year."
   ]
  },
  {
   "cell_type": "code",
   "execution_count": 39,
   "metadata": {},
   "outputs": [
    {
     "name": "stdout",
     "output_type": "stream",
     "text": [
      "2013 2007 This company was deadpooled after:  6 \t\t Babelgum\n",
      "2013 2006 This company was deadpooled after:  7 \t\t Thoof\n",
      "2010 2005 This company was deadpooled after:  5 \t\t Wesabe\n",
      "2013 2006 This company was deadpooled after:  7 \t\t Stickam\n",
      "2008 2004 This company was deadpooled after:  4 \t\t AllPeers\n",
      "2012 2006 This company was deadpooled after:  6 \t\t EQO\n",
      "2007 2000 This company was deadpooled after:  7 \t\t AllofMP3\n",
      "2010 2006 This company was deadpooled after:  4 \t\t SellABand\n",
      "2011 2005 This company was deadpooled after:  6 \t\t Zlio\n",
      "2012 2006 This company was deadpooled after:  6 \t\t Jaiku\n",
      "2009 2003 This company was deadpooled after:  6 \t\t Coghead\n",
      "2010 2005 This company was deadpooled after:  5 \t\t Swivel\n",
      "2011 2005 This company was deadpooled after:  6 \t\t Slide\n",
      "2012 2004 This company was deadpooled after:  8 \t\t Sway\n",
      "2012 2006 This company was deadpooled after:  6 \t\t coComment\n",
      "2012 2006 This company was deadpooled after:  6 \t\t Hotelicopter\n",
      "2012 2007 This company was deadpooled after:  5 \t\t Ujogo\n",
      "2009 2004 This company was deadpooled after:  5 \t\t PeerMe\n"
     ]
    }
   ],
   "source": [
    "c=db.companies.find({\"deadpooled_year\":{\"$gt\":0}, \"founded_year\":{\"$gt\":0}},\n",
    "                   ).limit(30)\n",
    "\n",
    "#el filter afuera q es mas facil\n",
    "for e in c:\n",
    "    lifetime = e[\"deadpooled_year\"]- e[\"founded_year\"]\n",
    "    if lifetime > 3:\n",
    "        print(e[\"deadpooled_year\"], e[\"founded_year\"], \"This company was deadpooled after: \",\n",
    "          (e[\"deadpooled_year\"]- e[\"founded_year\"]),\n",
    "          \"\\t\\t\",  e[\"name\"])"
   ]
  },
  {
   "cell_type": "code",
   "execution_count": 42,
   "metadata": {
    "scrolled": true
   },
   "outputs": [
    {
     "data": {
      "text/html": [
       "<div>\n",
       "<style scoped>\n",
       "    .dataframe tbody tr th:only-of-type {\n",
       "        vertical-align: middle;\n",
       "    }\n",
       "\n",
       "    .dataframe tbody tr th {\n",
       "        vertical-align: top;\n",
       "    }\n",
       "\n",
       "    .dataframe thead th {\n",
       "        text-align: right;\n",
       "    }\n",
       "</style>\n",
       "<table border=\"1\" class=\"dataframe\">\n",
       "  <thead>\n",
       "    <tr style=\"text-align: right;\">\n",
       "      <th></th>\n",
       "      <th>_id</th>\n",
       "      <th>name</th>\n",
       "      <th>permalink</th>\n",
       "      <th>crunchbase_url</th>\n",
       "      <th>homepage_url</th>\n",
       "      <th>blog_url</th>\n",
       "      <th>blog_feed_url</th>\n",
       "      <th>twitter_username</th>\n",
       "      <th>category_code</th>\n",
       "      <th>number_of_employees</th>\n",
       "      <th>...</th>\n",
       "      <th>acquisition.acquired_day</th>\n",
       "      <th>acquisition.acquiring_company.name</th>\n",
       "      <th>acquisition.acquiring_company.permalink</th>\n",
       "      <th>image</th>\n",
       "      <th>ipo.valuation_amount</th>\n",
       "      <th>ipo.valuation_currency_code</th>\n",
       "      <th>ipo.pub_year</th>\n",
       "      <th>ipo.pub_month</th>\n",
       "      <th>ipo.pub_day</th>\n",
       "      <th>ipo.stock_symbol</th>\n",
       "    </tr>\n",
       "  </thead>\n",
       "  <tbody>\n",
       "    <tr>\n",
       "      <th>0</th>\n",
       "      <td>52cdef7c4bab8bd675297fec</td>\n",
       "      <td>Fixya</td>\n",
       "      <td>fixya</td>\n",
       "      <td>http://www.crunchbase.com/company/fixya</td>\n",
       "      <td>http://www.fixya.com</td>\n",
       "      <td>http://blog.muktar.com</td>\n",
       "      <td>http://blog.muktar.com/feed/</td>\n",
       "      <td>MUaliyu</td>\n",
       "      <td>web</td>\n",
       "      <td>30.0</td>\n",
       "      <td>...</td>\n",
       "      <td>NaN</td>\n",
       "      <td>NaN</td>\n",
       "      <td>NaN</td>\n",
       "      <td>NaN</td>\n",
       "      <td>NaN</td>\n",
       "      <td>NaN</td>\n",
       "      <td>NaN</td>\n",
       "      <td>NaN</td>\n",
       "      <td>NaN</td>\n",
       "      <td>NaN</td>\n",
       "    </tr>\n",
       "    <tr>\n",
       "      <th>1</th>\n",
       "      <td>52cdef7c4bab8bd67529801f</td>\n",
       "      <td>Wamba</td>\n",
       "      <td>wamba</td>\n",
       "      <td>http://www.crunchbase.com/company/wamba</td>\n",
       "      <td>http://wamba.com</td>\n",
       "      <td>http://corp.wamba.com</td>\n",
       "      <td></td>\n",
       "      <td></td>\n",
       "      <td>web</td>\n",
       "      <td>120.0</td>\n",
       "      <td>...</td>\n",
       "      <td>NaN</td>\n",
       "      <td>NaN</td>\n",
       "      <td>NaN</td>\n",
       "      <td>NaN</td>\n",
       "      <td>NaN</td>\n",
       "      <td>NaN</td>\n",
       "      <td>NaN</td>\n",
       "      <td>NaN</td>\n",
       "      <td>NaN</td>\n",
       "      <td>NaN</td>\n",
       "    </tr>\n",
       "    <tr>\n",
       "      <th>2</th>\n",
       "      <td>52cdef7e4bab8bd67529a3b8</td>\n",
       "      <td>Clowdy</td>\n",
       "      <td>clowdy</td>\n",
       "      <td>http://www.crunchbase.com/company/clowdy</td>\n",
       "      <td>http://www.clowdy.com</td>\n",
       "      <td>http://blog.clowdy.com/</td>\n",
       "      <td>http://blog.clowdy.com/feed/</td>\n",
       "      <td>clowdycom</td>\n",
       "      <td>web</td>\n",
       "      <td>11.0</td>\n",
       "      <td>...</td>\n",
       "      <td>NaN</td>\n",
       "      <td>NaN</td>\n",
       "      <td>NaN</td>\n",
       "      <td>NaN</td>\n",
       "      <td>NaN</td>\n",
       "      <td>NaN</td>\n",
       "      <td>NaN</td>\n",
       "      <td>NaN</td>\n",
       "      <td>NaN</td>\n",
       "      <td>NaN</td>\n",
       "    </tr>\n",
       "    <tr>\n",
       "      <th>3</th>\n",
       "      <td>52cdef7e4bab8bd67529b40e</td>\n",
       "      <td>Tongxue</td>\n",
       "      <td>tongxue</td>\n",
       "      <td>http://www.crunchbase.com/company/tongxue</td>\n",
       "      <td>http://www.tongxue.com</td>\n",
       "      <td></td>\n",
       "      <td></td>\n",
       "      <td></td>\n",
       "      <td>web</td>\n",
       "      <td>NaN</td>\n",
       "      <td>...</td>\n",
       "      <td>NaN</td>\n",
       "      <td>NaN</td>\n",
       "      <td>NaN</td>\n",
       "      <td>NaN</td>\n",
       "      <td>NaN</td>\n",
       "      <td>NaN</td>\n",
       "      <td>NaN</td>\n",
       "      <td>NaN</td>\n",
       "      <td>NaN</td>\n",
       "      <td>NaN</td>\n",
       "    </tr>\n",
       "    <tr>\n",
       "      <th>4</th>\n",
       "      <td>52cdef7c4bab8bd675297fb1</td>\n",
       "      <td>headr</td>\n",
       "      <td>headr</td>\n",
       "      <td>http://www.crunchbase.com/company/headr</td>\n",
       "      <td>http://www.headr.com</td>\n",
       "      <td>http://tripodsocial.tumblr.com/</td>\n",
       "      <td></td>\n",
       "      <td>tripodsocial</td>\n",
       "      <td>web</td>\n",
       "      <td>8.0</td>\n",
       "      <td>...</td>\n",
       "      <td>NaN</td>\n",
       "      <td>NaN</td>\n",
       "      <td>NaN</td>\n",
       "      <td>NaN</td>\n",
       "      <td>NaN</td>\n",
       "      <td>NaN</td>\n",
       "      <td>NaN</td>\n",
       "      <td>NaN</td>\n",
       "      <td>NaN</td>\n",
       "      <td>NaN</td>\n",
       "    </tr>\n",
       "    <tr>\n",
       "      <th>...</th>\n",
       "      <td>...</td>\n",
       "      <td>...</td>\n",
       "      <td>...</td>\n",
       "      <td>...</td>\n",
       "      <td>...</td>\n",
       "      <td>...</td>\n",
       "      <td>...</td>\n",
       "      <td>...</td>\n",
       "      <td>...</td>\n",
       "      <td>...</td>\n",
       "      <td>...</td>\n",
       "      <td>...</td>\n",
       "      <td>...</td>\n",
       "      <td>...</td>\n",
       "      <td>...</td>\n",
       "      <td>...</td>\n",
       "      <td>...</td>\n",
       "      <td>...</td>\n",
       "      <td>...</td>\n",
       "      <td>...</td>\n",
       "      <td>...</td>\n",
       "    </tr>\n",
       "    <tr>\n",
       "      <th>3782</th>\n",
       "      <td>52cdef7f4bab8bd67529c651</td>\n",
       "      <td>eNom</td>\n",
       "      <td>enom</td>\n",
       "      <td>http://www.crunchbase.com/company/enom</td>\n",
       "      <td>http://www.enom.com</td>\n",
       "      <td></td>\n",
       "      <td></td>\n",
       "      <td></td>\n",
       "      <td>web</td>\n",
       "      <td>NaN</td>\n",
       "      <td>...</td>\n",
       "      <td>3.0</td>\n",
       "      <td>Demand Media</td>\n",
       "      <td>demandmedia</td>\n",
       "      <td>NaN</td>\n",
       "      <td>NaN</td>\n",
       "      <td>NaN</td>\n",
       "      <td>NaN</td>\n",
       "      <td>NaN</td>\n",
       "      <td>NaN</td>\n",
       "      <td>NaN</td>\n",
       "    </tr>\n",
       "    <tr>\n",
       "      <th>3783</th>\n",
       "      <td>52cdef7f4bab8bd67529c66e</td>\n",
       "      <td>MedTrackAlert</td>\n",
       "      <td>medtrackalert</td>\n",
       "      <td>http://www.crunchbase.com/company/medtrackalert</td>\n",
       "      <td></td>\n",
       "      <td></td>\n",
       "      <td></td>\n",
       "      <td></td>\n",
       "      <td>web</td>\n",
       "      <td>NaN</td>\n",
       "      <td>...</td>\n",
       "      <td>NaN</td>\n",
       "      <td>HealthCentral</td>\n",
       "      <td>healthcentral</td>\n",
       "      <td>NaN</td>\n",
       "      <td>NaN</td>\n",
       "      <td>NaN</td>\n",
       "      <td>NaN</td>\n",
       "      <td>NaN</td>\n",
       "      <td>NaN</td>\n",
       "      <td>NaN</td>\n",
       "    </tr>\n",
       "    <tr>\n",
       "      <th>3784</th>\n",
       "      <td>52cdef7f4bab8bd67529c6db</td>\n",
       "      <td>Optemo</td>\n",
       "      <td>optemo</td>\n",
       "      <td>http://www.crunchbase.com/company/optemo</td>\n",
       "      <td>http://www.optemo.com</td>\n",
       "      <td></td>\n",
       "      <td></td>\n",
       "      <td>optemo</td>\n",
       "      <td>web</td>\n",
       "      <td>NaN</td>\n",
       "      <td>...</td>\n",
       "      <td>NaN</td>\n",
       "      <td>NaN</td>\n",
       "      <td>NaN</td>\n",
       "      <td>NaN</td>\n",
       "      <td>NaN</td>\n",
       "      <td>NaN</td>\n",
       "      <td>NaN</td>\n",
       "      <td>NaN</td>\n",
       "      <td>NaN</td>\n",
       "      <td>NaN</td>\n",
       "    </tr>\n",
       "    <tr>\n",
       "      <th>3785</th>\n",
       "      <td>52cdef7f4bab8bd67529c6e5</td>\n",
       "      <td>Zoomission</td>\n",
       "      <td>zoomission</td>\n",
       "      <td>http://www.crunchbase.com/company/zoomission</td>\n",
       "      <td>http://www.zoomission.com</td>\n",
       "      <td></td>\n",
       "      <td></td>\n",
       "      <td>zoomission</td>\n",
       "      <td>web</td>\n",
       "      <td>NaN</td>\n",
       "      <td>...</td>\n",
       "      <td>NaN</td>\n",
       "      <td>NaN</td>\n",
       "      <td>NaN</td>\n",
       "      <td>NaN</td>\n",
       "      <td>NaN</td>\n",
       "      <td>NaN</td>\n",
       "      <td>NaN</td>\n",
       "      <td>NaN</td>\n",
       "      <td>NaN</td>\n",
       "      <td>NaN</td>\n",
       "    </tr>\n",
       "    <tr>\n",
       "      <th>3786</th>\n",
       "      <td>52cdef7f4bab8bd67529c6f8</td>\n",
       "      <td>goBookmaker</td>\n",
       "      <td>gobookmaker</td>\n",
       "      <td>http://www.crunchbase.com/company/gobookmaker</td>\n",
       "      <td>http://www.gobookmaker.com</td>\n",
       "      <td>http://blog.gobookmaker.com</td>\n",
       "      <td></td>\n",
       "      <td>gobookmaker</td>\n",
       "      <td>web</td>\n",
       "      <td>NaN</td>\n",
       "      <td>...</td>\n",
       "      <td>NaN</td>\n",
       "      <td>NaN</td>\n",
       "      <td>NaN</td>\n",
       "      <td>NaN</td>\n",
       "      <td>NaN</td>\n",
       "      <td>NaN</td>\n",
       "      <td>NaN</td>\n",
       "      <td>NaN</td>\n",
       "      <td>NaN</td>\n",
       "      <td>NaN</td>\n",
       "    </tr>\n",
       "  </tbody>\n",
       "</table>\n",
       "<p>3787 rows × 60 columns</p>\n",
       "</div>"
      ],
      "text/plain": [
       "                           _id           name      permalink  \\\n",
       "0     52cdef7c4bab8bd675297fec          Fixya          fixya   \n",
       "1     52cdef7c4bab8bd67529801f          Wamba          wamba   \n",
       "2     52cdef7e4bab8bd67529a3b8         Clowdy         clowdy   \n",
       "3     52cdef7e4bab8bd67529b40e        Tongxue        tongxue   \n",
       "4     52cdef7c4bab8bd675297fb1          headr          headr   \n",
       "...                        ...            ...            ...   \n",
       "3782  52cdef7f4bab8bd67529c651           eNom           enom   \n",
       "3783  52cdef7f4bab8bd67529c66e  MedTrackAlert  medtrackalert   \n",
       "3784  52cdef7f4bab8bd67529c6db         Optemo         optemo   \n",
       "3785  52cdef7f4bab8bd67529c6e5     Zoomission     zoomission   \n",
       "3786  52cdef7f4bab8bd67529c6f8    goBookmaker    gobookmaker   \n",
       "\n",
       "                                       crunchbase_url  \\\n",
       "0             http://www.crunchbase.com/company/fixya   \n",
       "1             http://www.crunchbase.com/company/wamba   \n",
       "2            http://www.crunchbase.com/company/clowdy   \n",
       "3           http://www.crunchbase.com/company/tongxue   \n",
       "4             http://www.crunchbase.com/company/headr   \n",
       "...                                               ...   \n",
       "3782           http://www.crunchbase.com/company/enom   \n",
       "3783  http://www.crunchbase.com/company/medtrackalert   \n",
       "3784         http://www.crunchbase.com/company/optemo   \n",
       "3785     http://www.crunchbase.com/company/zoomission   \n",
       "3786    http://www.crunchbase.com/company/gobookmaker   \n",
       "\n",
       "                    homepage_url                         blog_url  \\\n",
       "0           http://www.fixya.com           http://blog.muktar.com   \n",
       "1               http://wamba.com            http://corp.wamba.com   \n",
       "2          http://www.clowdy.com          http://blog.clowdy.com/   \n",
       "3         http://www.tongxue.com                                    \n",
       "4           http://www.headr.com  http://tripodsocial.tumblr.com/   \n",
       "...                          ...                              ...   \n",
       "3782         http://www.enom.com                                    \n",
       "3783                                                                \n",
       "3784       http://www.optemo.com                                    \n",
       "3785   http://www.zoomission.com                                    \n",
       "3786  http://www.gobookmaker.com      http://blog.gobookmaker.com   \n",
       "\n",
       "                     blog_feed_url twitter_username category_code  \\\n",
       "0     http://blog.muktar.com/feed/          MUaliyu           web   \n",
       "1                                                             web   \n",
       "2     http://blog.clowdy.com/feed/        clowdycom           web   \n",
       "3                                                             web   \n",
       "4                                      tripodsocial           web   \n",
       "...                            ...              ...           ...   \n",
       "3782                                                          web   \n",
       "3783                                                          web   \n",
       "3784                                         optemo           web   \n",
       "3785                                     zoomission           web   \n",
       "3786                                    gobookmaker           web   \n",
       "\n",
       "      number_of_employees  ...  acquisition.acquired_day  \\\n",
       "0                    30.0  ...                       NaN   \n",
       "1                   120.0  ...                       NaN   \n",
       "2                    11.0  ...                       NaN   \n",
       "3                     NaN  ...                       NaN   \n",
       "4                     8.0  ...                       NaN   \n",
       "...                   ...  ...                       ...   \n",
       "3782                  NaN  ...                       3.0   \n",
       "3783                  NaN  ...                       NaN   \n",
       "3784                  NaN  ...                       NaN   \n",
       "3785                  NaN  ...                       NaN   \n",
       "3786                  NaN  ...                       NaN   \n",
       "\n",
       "      acquisition.acquiring_company.name  \\\n",
       "0                                    NaN   \n",
       "1                                    NaN   \n",
       "2                                    NaN   \n",
       "3                                    NaN   \n",
       "4                                    NaN   \n",
       "...                                  ...   \n",
       "3782                        Demand Media   \n",
       "3783                       HealthCentral   \n",
       "3784                                 NaN   \n",
       "3785                                 NaN   \n",
       "3786                                 NaN   \n",
       "\n",
       "      acquisition.acquiring_company.permalink  image  ipo.valuation_amount  \\\n",
       "0                                         NaN    NaN                   NaN   \n",
       "1                                         NaN    NaN                   NaN   \n",
       "2                                         NaN    NaN                   NaN   \n",
       "3                                         NaN    NaN                   NaN   \n",
       "4                                         NaN    NaN                   NaN   \n",
       "...                                       ...    ...                   ...   \n",
       "3782                              demandmedia    NaN                   NaN   \n",
       "3783                            healthcentral    NaN                   NaN   \n",
       "3784                                      NaN    NaN                   NaN   \n",
       "3785                                      NaN    NaN                   NaN   \n",
       "3786                                      NaN    NaN                   NaN   \n",
       "\n",
       "      ipo.valuation_currency_code ipo.pub_year ipo.pub_month ipo.pub_day  \\\n",
       "0                             NaN          NaN           NaN         NaN   \n",
       "1                             NaN          NaN           NaN         NaN   \n",
       "2                             NaN          NaN           NaN         NaN   \n",
       "3                             NaN          NaN           NaN         NaN   \n",
       "4                             NaN          NaN           NaN         NaN   \n",
       "...                           ...          ...           ...         ...   \n",
       "3782                          NaN          NaN           NaN         NaN   \n",
       "3783                          NaN          NaN           NaN         NaN   \n",
       "3784                          NaN          NaN           NaN         NaN   \n",
       "3785                          NaN          NaN           NaN         NaN   \n",
       "3786                          NaN          NaN           NaN         NaN   \n",
       "\n",
       "     ipo.stock_symbol  \n",
       "0                 NaN  \n",
       "1                 NaN  \n",
       "2                 NaN  \n",
       "3                 NaN  \n",
       "4                 NaN  \n",
       "...               ...  \n",
       "3782              NaN  \n",
       "3783              NaN  \n",
       "3784              NaN  \n",
       "3785              NaN  \n",
       "3786              NaN  \n",
       "\n",
       "[3787 rows x 60 columns]"
      ]
     },
     "execution_count": 42,
     "metadata": {},
     "output_type": "execute_result"
    }
   ],
   "source": [
    "# practicing previous lessons now\n",
    "# i'd appreciate recommendations to improve code\n",
    "\n",
    "import pandas as pd\n",
    "from pandas.io.json import json_normalize\n",
    "\n",
    "\n",
    "data = list( db.companies.find(\n",
    "                                {\"category_code\":\"web\", \"ipo\":{\"$ne\": None}},                   \n",
    "                               ).sort(\"founded_year\",-1))\n",
    "\n",
    "df = pd.json_normalize(data)\n",
    "df"
   ]
  },
  {
   "cell_type": "code",
   "execution_count": 41,
   "metadata": {},
   "outputs": [
    {
     "data": {
      "text/html": [
       "<div>\n",
       "<style scoped>\n",
       "    .dataframe tbody tr th:only-of-type {\n",
       "        vertical-align: middle;\n",
       "    }\n",
       "\n",
       "    .dataframe tbody tr th {\n",
       "        vertical-align: top;\n",
       "    }\n",
       "\n",
       "    .dataframe thead th {\n",
       "        text-align: right;\n",
       "    }\n",
       "</style>\n",
       "<table border=\"1\" class=\"dataframe\">\n",
       "  <thead>\n",
       "    <tr style=\"text-align: right;\">\n",
       "      <th></th>\n",
       "      <th>name</th>\n",
       "      <th>permalink</th>\n",
       "      <th>crunchbase_url</th>\n",
       "      <th>homepage_url</th>\n",
       "      <th>blog_url</th>\n",
       "      <th>blog_feed_url</th>\n",
       "      <th>twitter_username</th>\n",
       "      <th>category_code</th>\n",
       "      <th>number_of_employees</th>\n",
       "      <th>founded_year</th>\n",
       "      <th>...</th>\n",
       "      <th>acquisition.price_amount</th>\n",
       "      <th>acquisition.price_currency_code</th>\n",
       "      <th>acquisition.term_code</th>\n",
       "      <th>acquisition.source_url</th>\n",
       "      <th>acquisition.source_description</th>\n",
       "      <th>acquisition.acquired_year</th>\n",
       "      <th>acquisition.acquired_month</th>\n",
       "      <th>acquisition.acquired_day</th>\n",
       "      <th>acquisition.acquiring_company.name</th>\n",
       "      <th>acquisition.acquiring_company.permalink</th>\n",
       "    </tr>\n",
       "  </thead>\n",
       "  <tbody>\n",
       "    <tr>\n",
       "      <th>0</th>\n",
       "      <td>Groupon</td>\n",
       "      <td>groupon</td>\n",
       "      <td>http://www.crunchbase.com/company/groupon</td>\n",
       "      <td>http://www.groupon.com</td>\n",
       "      <td>http://www.groupon.com/blog/</td>\n",
       "      <td>feed://feeds2.feedburner.com/grouponblog</td>\n",
       "      <td>groupon</td>\n",
       "      <td>web</td>\n",
       "      <td>10000.0</td>\n",
       "      <td>2008.0</td>\n",
       "      <td>...</td>\n",
       "      <td>NaN</td>\n",
       "      <td>NaN</td>\n",
       "      <td>NaN</td>\n",
       "      <td>NaN</td>\n",
       "      <td>NaN</td>\n",
       "      <td>NaN</td>\n",
       "      <td>NaN</td>\n",
       "      <td>NaN</td>\n",
       "      <td>NaN</td>\n",
       "      <td>NaN</td>\n",
       "    </tr>\n",
       "    <tr>\n",
       "      <th>4</th>\n",
       "      <td>TripAdvisor</td>\n",
       "      <td>tripadvisor</td>\n",
       "      <td>http://www.crunchbase.com/company/tripadvisor</td>\n",
       "      <td>http://www.tripadvisor.com</td>\n",
       "      <td>http://blog.tripadvisor.com</td>\n",
       "      <td></td>\n",
       "      <td>TripAdvisor</td>\n",
       "      <td>web</td>\n",
       "      <td>NaN</td>\n",
       "      <td>2000.0</td>\n",
       "      <td>...</td>\n",
       "      <td>NaN</td>\n",
       "      <td>USD</td>\n",
       "      <td>NaN</td>\n",
       "      <td>http://en.wikipedia.org/wiki/TripAdvisor</td>\n",
       "      <td></td>\n",
       "      <td>2005.0</td>\n",
       "      <td>8.0</td>\n",
       "      <td>NaN</td>\n",
       "      <td>Expedia</td>\n",
       "      <td>expedia</td>\n",
       "    </tr>\n",
       "    <tr>\n",
       "      <th>28</th>\n",
       "      <td>Nielsen</td>\n",
       "      <td>nielsen</td>\n",
       "      <td>http://www.crunchbase.com/company/nielsen</td>\n",
       "      <td>http://nielsen.com</td>\n",
       "      <td>http://blog.nielsen.com/nielsenwire</td>\n",
       "      <td></td>\n",
       "      <td>nielsenwire</td>\n",
       "      <td>web</td>\n",
       "      <td>NaN</td>\n",
       "      <td>1922.0</td>\n",
       "      <td>...</td>\n",
       "      <td>NaN</td>\n",
       "      <td>NaN</td>\n",
       "      <td>NaN</td>\n",
       "      <td>NaN</td>\n",
       "      <td>NaN</td>\n",
       "      <td>NaN</td>\n",
       "      <td>NaN</td>\n",
       "      <td>NaN</td>\n",
       "      <td>NaN</td>\n",
       "      <td>NaN</td>\n",
       "    </tr>\n",
       "  </tbody>\n",
       "</table>\n",
       "<p>3 rows × 57 columns</p>\n",
       "</div>"
      ],
      "text/plain": [
       "           name    permalink                                 crunchbase_url  \\\n",
       "0       Groupon      groupon      http://www.crunchbase.com/company/groupon   \n",
       "4   TripAdvisor  tripadvisor  http://www.crunchbase.com/company/tripadvisor   \n",
       "28      Nielsen      nielsen      http://www.crunchbase.com/company/nielsen   \n",
       "\n",
       "                  homepage_url                             blog_url  \\\n",
       "0       http://www.groupon.com         http://www.groupon.com/blog/   \n",
       "4   http://www.tripadvisor.com          http://blog.tripadvisor.com   \n",
       "28          http://nielsen.com  http://blog.nielsen.com/nielsenwire   \n",
       "\n",
       "                               blog_feed_url twitter_username category_code  \\\n",
       "0   feed://feeds2.feedburner.com/grouponblog          groupon           web   \n",
       "4                                                 TripAdvisor           web   \n",
       "28                                                nielsenwire           web   \n",
       "\n",
       "    number_of_employees  founded_year  ...  acquisition.price_amount  \\\n",
       "0               10000.0        2008.0  ...                       NaN   \n",
       "4                   NaN        2000.0  ...                       NaN   \n",
       "28                  NaN        1922.0  ...                       NaN   \n",
       "\n",
       "    acquisition.price_currency_code acquisition.term_code  \\\n",
       "0                               NaN                   NaN   \n",
       "4                               USD                   NaN   \n",
       "28                              NaN                   NaN   \n",
       "\n",
       "                      acquisition.source_url acquisition.source_description  \\\n",
       "0                                        NaN                            NaN   \n",
       "4   http://en.wikipedia.org/wiki/TripAdvisor                                  \n",
       "28                                       NaN                            NaN   \n",
       "\n",
       "   acquisition.acquired_year acquisition.acquired_month  \\\n",
       "0                        NaN                        NaN   \n",
       "4                     2005.0                        8.0   \n",
       "28                       NaN                        NaN   \n",
       "\n",
       "   acquisition.acquired_day acquisition.acquiring_company.name  \\\n",
       "0                       NaN                                NaN   \n",
       "4                       NaN                            Expedia   \n",
       "28                      NaN                                NaN   \n",
       "\n",
       "   acquisition.acquiring_company.permalink  \n",
       "0                                      NaN  \n",
       "4                                  expedia  \n",
       "28                                     NaN  \n",
       "\n",
       "[3 rows x 57 columns]"
      ]
     },
     "execution_count": 41,
     "metadata": {},
     "output_type": "execute_result"
    }
   ],
   "source": [
    "#loaded some data, time to do an exploration\n",
    "df2 = df\n",
    "df2 = df2.drop(columns=\"_id\")\n",
    "df2.sort_values(\"ipo.pub_year\", ascending=False)\n",
    "df2[\"ipo.valuation_amount\"] = df2[\"ipo.valuation_amount\"].fillna(0)\n",
    "df2[df[\"ipo.pub_year\"] > 2010].sort_values(\"ipo.valuation_amount\", ascending=False).head(3)"
   ]
  },
  {
   "cell_type": "code",
   "execution_count": 37,
   "metadata": {},
   "outputs": [
    {
     "data": {
      "text/plain": [
       "(38, 58)"
      ]
     },
     "execution_count": 37,
     "metadata": {},
     "output_type": "execute_result"
    }
   ],
   "source": [
    "df.columns\n",
    "df.shape"
   ]
  },
  {
   "cell_type": "code",
   "execution_count": 36,
   "metadata": {},
   "outputs": [
    {
     "data": {
      "text/plain": [
       "(38, 58)"
      ]
     },
     "execution_count": 36,
     "metadata": {},
     "output_type": "execute_result"
    },
    {
     "data": {
      "image/png": "[encoded data removed]",
      "text/plain": [
       "<Figure size 1080x216 with 2 Axes>"
      ]
     },
     "metadata": {
      "needs_background": "light"
     },
     "output_type": "display_data"
    }
   ],
   "source": [
    "import matplotlib.pyplot as plt\n",
    "f,a= plt.subplots(1,2, figsize=(15,3))\n",
    "\n",
    "df4 = df['ipo.valuation_amount']\n",
    "\n",
    "a[1].plot(df['ipo.valuation_amount'].dropna(), 'x')\n",
    "#a[1].plot(df)\n",
    "\n",
    "a[1].set_title('ipo.valuation_amount')\n",
    "a[1].set_ylabel(\"Billions of that currency\")\n",
    "df.shape"
   ]
  },
  {
   "cell_type": "code",
   "execution_count": 92,
   "metadata": {},
   "outputs": [
    {
     "data": {
      "text/plain": [
       "[<matplotlib.lines.Line2D at 0x7fe2947ebb00>]"
      ]
     },
     "execution_count": 92,
     "metadata": {},
     "output_type": "execute_result"
    },
    {
     "data": {
      "image/png": "[encoded data removed]",
      "text/plain": [
       "<Figure size 1080x216 with 2 Axes>"
      ]
     },
     "metadata": {
      "needs_background": "light"
     },
     "output_type": "display_data"
    }
   ],
   "source": [
    "f,a= plt.subplots(1,2, figsize=(15,3))\n",
    "df4 = df\n",
    "\n",
    "a[1].plot(df[df.founded_year > 2010].dropna(), 'x')\n",
    "#a[1].plot(df)\n",
    "\n",
    "a[1].set_title('ipo.valuation_amount')\n",
    "a[1].set_ylabel(\"Billions of that currency\")\n",
    "df5 = df[df.twitter_username != ''].sort_values(\"founded_year\", ascending=False)\n",
    "nothing = lambda x : x if x is x else 'NULL'\n",
    "df6 = df5.groupby(\"founded_year\").agg('mean')\n",
    "a[0].plot(df.number_of_employees.T, 'x')\n"
   ]
  },
  {
   "cell_type": "code",
   "execution_count": null,
   "metadata": {},
   "outputs": [],
   "source": []
  },
  {
   "cell_type": "code",
   "execution_count": null,
   "metadata": {},
   "outputs": [],
   "source": []
  },
  {
   "cell_type": "code",
   "execution_count": null,
   "metadata": {},
   "outputs": [],
   "source": []
  }
 ],
 "metadata": {
  "kernelspec": {
   "display_name": "Python 3",
   "language": "python",
   "name": "python3"
  },
  "language_info": {
   "codemirror_mode": {
    "name": "ipython",
    "version": 3
   },
   "file_extension": ".py",
   "mimetype": "text/x-python",
   "name": "python",
   "nbconvert_exporter": "python",
   "pygments_lexer": "ipython3",
   "version": "3.6.9"
  }
 },
 "nbformat": 4,
 "nbformat_minor": 2
}
